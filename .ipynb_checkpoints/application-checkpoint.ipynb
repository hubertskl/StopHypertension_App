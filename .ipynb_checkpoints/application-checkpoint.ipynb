{
 "cells": [
  {
   "cell_type": "markdown",
   "metadata": {},
   "source": [
    "# --packages--"
   ]
  },
  {
   "cell_type": "code",
   "execution_count": 2,
   "metadata": {},
   "outputs": [
    {
     "name": "stdout",
     "output_type": "stream",
     "text": [
      "\u001b[32m\u001b[1m  Updating\u001b[22m\u001b[39m registry at `C:\\Users\\Hubert\\.julia\\registries\\General`\n",
      "\u001b[32m\u001b[1m  Updating\u001b[22m\u001b[39m git-repo `https://github.com/JuliaRegistries/General.git`\n",
      "\u001b[2K\u001b[?25h[1mFetching:\u001b[22m\u001b[39m [========================================>]  100.0 %.0 %.9 % [====================>                    ]  48.2 % [=======================>                 ]  57.5 %==========================>              ]  64.0 % [==============================>          ]  74.5 % [==================================>      ]  84.6 %  ]  93.0 %\u001b[32m\u001b[1m Resolving\u001b[22m\u001b[39m package versions...\n",
      "\u001b[32m\u001b[1m Installed\u001b[22m\u001b[39m OnlineStatsBase ──── v0.10.2\n",
      "\u001b[32m\u001b[1m Installed\u001b[22m\u001b[39m TableTraitsUtils ─── v0.4.0\n",
      "\u001b[32m\u001b[1m Installed\u001b[22m\u001b[39m Glob ─────────────── v1.2.0\n",
      "\u001b[32m\u001b[1m Installed\u001b[22m\u001b[39m StructArrays ─────── v0.3.4\n",
      "\u001b[32m\u001b[1m Installed\u001b[22m\u001b[39m OnlineStats ──────── v0.23.0\n",
      "\u001b[32m\u001b[1m Installed\u001b[22m\u001b[39m LossFunctions ────── v0.5.1\n",
      "\u001b[32m\u001b[1m Installed\u001b[22m\u001b[39m JuliaDB ──────────── v0.12.0\n",
      "\u001b[32m\u001b[1m Installed\u001b[22m\u001b[39m StaticArrays ─────── v0.11.0\n",
      "\u001b[32m\u001b[1m Installed\u001b[22m\u001b[39m LearnBase ────────── v0.2.2\n",
      "\u001b[32m\u001b[1m Installed\u001b[22m\u001b[39m SweepOperator ────── v0.2.0\n",
      "\u001b[32m\u001b[1m Installed\u001b[22m\u001b[39m MemPool ──────────── v0.2.0\n",
      "\u001b[32m\u001b[1m Installed\u001b[22m\u001b[39m RecipesBase ──────── v0.6.0\n",
      "\u001b[32m\u001b[1m Installed\u001b[22m\u001b[39m WeakRefStrings ───── v0.5.8\n",
      "\u001b[32m\u001b[1m Installed\u001b[22m\u001b[39m Dagger ───────────── v0.8.0\n",
      "\u001b[32m\u001b[1m Installed\u001b[22m\u001b[39m DoubleFloats ─────── v0.9.1\n",
      "\u001b[32m\u001b[1m Installed\u001b[22m\u001b[39m Quadmath ─────────── v0.4.0\n",
      "\u001b[32m\u001b[1m Installed\u001b[22m\u001b[39m PenaltyFunctions ─── v0.1.2\n",
      "\u001b[32m\u001b[1m Installed\u001b[22m\u001b[39m DataValues ───────── v0.4.7\n",
      "\u001b[32m\u001b[1m Installed\u001b[22m\u001b[39m Nullables ────────── v0.0.8\n",
      "\u001b[32m\u001b[1m Installed\u001b[22m\u001b[39m Polynomials ──────── v0.5.2\n",
      "\u001b[32m\u001b[1m Installed\u001b[22m\u001b[39m PooledArrays ─────── v0.5.2\n",
      "\u001b[32m\u001b[1m Installed\u001b[22m\u001b[39m TranscodingStreams ─ v0.9.4\n",
      "\u001b[32m\u001b[1m Installed\u001b[22m\u001b[39m GenericSchur ─────── v0.2.3\n",
      "\u001b[32m\u001b[1m Installed\u001b[22m\u001b[39m TextParse ────────── v0.9.1\n",
      "\u001b[32m\u001b[1m Installed\u001b[22m\u001b[39m WebIO ────────────── v0.8.4\n",
      "\u001b[32m\u001b[1m Installed\u001b[22m\u001b[39m CodecZlib ────────── v0.5.2\n",
      "\u001b[32m\u001b[1m Installed\u001b[22m\u001b[39m GenericSVD ───────── v0.2.1\n",
      "\u001b[32m\u001b[1m Installed\u001b[22m\u001b[39m IndexedTables ────── v0.12.0\n",
      "\u001b[32m\u001b[1m  Updating\u001b[22m\u001b[39m `C:\\Users\\Hubert\\.julia\\environments\\v1.0\\Project.toml`\n",
      " \u001b[90m [a93385a2]\u001b[39m\u001b[92m + JuliaDB v0.12.0\u001b[39m\n",
      "\u001b[32m\u001b[1m  Updating\u001b[22m\u001b[39m `C:\\Users\\Hubert\\.julia\\environments\\v1.0\\Manifest.toml`\n",
      " \u001b[90m [944b1d66]\u001b[39m\u001b[92m + CodecZlib v0.5.2\u001b[39m\n",
      " \u001b[90m [d58978e5]\u001b[39m\u001b[92m + Dagger v0.8.0\u001b[39m\n",
      " \u001b[90m [e7dc6d0d]\u001b[39m\u001b[92m + DataValues v0.4.7\u001b[39m\n",
      " \u001b[90m [497a8b3b]\u001b[39m\u001b[92m + DoubleFloats v0.9.1\u001b[39m\n",
      " \u001b[90m [01680d73]\u001b[39m\u001b[92m + GenericSVD v0.2.1\u001b[39m\n",
      " \u001b[90m [c145ed77]\u001b[39m\u001b[92m + GenericSchur v0.2.3\u001b[39m\n",
      " \u001b[90m [c27321d9]\u001b[39m\u001b[92m + Glob v1.2.0\u001b[39m\n",
      " \u001b[90m [6deec6e2]\u001b[39m\u001b[92m + IndexedTables v0.12.0\u001b[39m\n",
      " \u001b[90m [a93385a2]\u001b[39m\u001b[92m + JuliaDB v0.12.0\u001b[39m\n",
      " \u001b[90m [7f8f8fb0]\u001b[39m\u001b[92m + LearnBase v0.2.2\u001b[39m\n",
      " \u001b[90m [30fc2ffe]\u001b[39m\u001b[92m + LossFunctions v0.5.1\u001b[39m\n",
      " \u001b[90m [f9f48841]\u001b[39m\u001b[92m + MemPool v0.2.0\u001b[39m\n",
      " \u001b[90m [4d1e1d77]\u001b[39m\u001b[92m + Nullables v0.0.8\u001b[39m\n",
      " \u001b[90m [a15396b6]\u001b[39m\u001b[92m + OnlineStats v0.23.0\u001b[39m\n",
      " \u001b[90m [925886fa]\u001b[39m\u001b[92m + OnlineStatsBase v0.10.2\u001b[39m\n",
      " \u001b[90m [06bb1623]\u001b[39m\u001b[92m + PenaltyFunctions v0.1.2\u001b[39m\n",
      " \u001b[90m [f27b6e38]\u001b[39m\u001b[92m + Polynomials v0.5.2\u001b[39m\n",
      " \u001b[90m [2dfb63ee]\u001b[39m\u001b[92m + PooledArrays v0.5.2\u001b[39m\n",
      " \u001b[90m [be4d8f0f]\u001b[39m\u001b[92m + Quadmath v0.4.0\u001b[39m\n",
      " \u001b[90m [3cdcf5f2]\u001b[39m\u001b[92m + RecipesBase v0.6.0\u001b[39m\n",
      " \u001b[90m [90137ffa]\u001b[39m\u001b[93m ↑ StaticArrays v0.10.3 ⇒ v0.11.0\u001b[39m\n",
      " \u001b[90m [09ab397b]\u001b[39m\u001b[92m + StructArrays v0.3.4\u001b[39m\n",
      " \u001b[90m [7522ee7d]\u001b[39m\u001b[92m + SweepOperator v0.2.0\u001b[39m\n",
      " \u001b[90m [382cd787]\u001b[39m\u001b[92m + TableTraitsUtils v0.4.0\u001b[39m\n",
      " \u001b[90m [e0df1984]\u001b[39m\u001b[92m + TextParse v0.9.1\u001b[39m\n",
      " \u001b[90m [3bb67fe8]\u001b[39m\u001b[92m + TranscodingStreams v0.9.4\u001b[39m\n",
      " \u001b[90m [ea10d353]\u001b[39m\u001b[92m + WeakRefStrings v0.5.8\u001b[39m\n",
      " \u001b[90m [0f1e0344]\u001b[39m\u001b[93m ↑ WebIO v0.8.1 ⇒ v0.8.4\u001b[39m\n",
      "\u001b[32m\u001b[1m  Building\u001b[22m\u001b[39m WebIO ────→ `C:\\Users\\Hubert\\.julia\\packages\\WebIO\\kk2q1\\deps\\build.log`\n",
      "\u001b[32m\u001b[1m  Building\u001b[22m\u001b[39m CodecZlib → `C:\\Users\\Hubert\\.julia\\packages\\CodecZlib\\9jDi1\\deps\\build.log`\n"
     ]
    },
    {
     "name": "stderr",
     "output_type": "stream",
     "text": [
      "┌ Info: Precompiling JuliaDB [a93385a2-3734-596a-9a66-3cfbb77141e6]\n",
      "└ @ Base loading.jl:1192\n"
     ]
    }
   ],
   "source": [
    "using Pkg\n",
    "Pkg.add(\"JuliaDB\")\n",
    "using JuliaDB"
   ]
  },
  {
   "cell_type": "code",
   "execution_count": 14,
   "metadata": {},
   "outputs": [
    {
     "name": "stdout",
     "output_type": "stream",
     "text": [
      "\u001b[32m\u001b[1m Resolving\u001b[22m\u001b[39m package versions...\n",
      "\u001b[32m\u001b[1m  Updating\u001b[22m\u001b[39m `C:\\Users\\Hubert\\.julia\\environments\\v1.0\\Project.toml`\n",
      "\u001b[90m [no changes]\u001b[39m\n",
      "\u001b[32m\u001b[1m  Updating\u001b[22m\u001b[39m `C:\\Users\\Hubert\\.julia\\environments\\v1.0\\Manifest.toml`\n",
      "\u001b[90m [no changes]\u001b[39m\n"
     ]
    }
   ],
   "source": [
    "Pkg.add(\"Blink\")"
   ]
  },
  {
   "cell_type": "code",
   "execution_count": 15,
   "metadata": {},
   "outputs": [],
   "source": [
    "using Blink"
   ]
  },
  {
   "cell_type": "markdown",
   "metadata": {},
   "source": [
    "# --empty declarations--"
   ]
  },
  {
   "cell_type": "code",
   "execution_count": 197,
   "metadata": {},
   "outputs": [
    {
     "data": {
      "text/plain": [
       "3-element Array{Any,1}:\n",
       " '1'\n",
       " '2'\n",
       " '4'"
      ]
     },
     "execution_count": 197,
     "metadata": {},
     "output_type": "execute_result"
    }
   ],
   "source": [
    "user_info"
   ]
  },
  {
   "cell_type": "markdown",
   "metadata": {},
   "source": [
    "# --user information--"
   ]
  },
  {
   "cell_type": "code",
   "execution_count": 162,
   "metadata": {},
   "outputs": [
    {
     "data": {
      "text/plain": [
       "Table with 3 rows, 4 columns:\n",
       "age  sit   mid_active  active\n",
       "─────────────────────────────\n",
       "1    2400  2700        3000\n",
       "2    2200  2500        2900\n",
       "3    2000  2300        2600"
      ]
     },
     "execution_count": 162,
     "metadata": {},
     "output_type": "execute_result"
    }
   ],
   "source": [
    "age = [1, 2, 3]\n",
    "sit_f = [2000, 1800, 1600]\n",
    "mid_active_f = [2200, 2000, 1800]\n",
    "active_f = [2400, 2200, 2000]\n",
    "sit_m = [2400, 2200, 2000]\n",
    "mid_active_m = [2700, 2500, 2300]\n",
    "active_m = [3000, 2900, 2600]\n",
    "female_table = table(age, sit_f, mid_active_f, active_f; names=[:age, :sit, :mid_active, :active])\n",
    "male_table = table(age, sit_m, mid_active_m, active_m; names=[:age, :sit, :mid_active, :active])"
   ]
  },
  {
   "cell_type": "code",
   "execution_count": 196,
   "metadata": {},
   "outputs": [
    {
     "data": {
      "text/plain": [
       "Window(21, Electron(Process(`\u001b[4m'C:\\Users\\Hubert\\.julia\\packages\\Blink\\1QOOi\\deps\\atom\\electron.exe'\u001b[24m \u001b[4m'C:\\Users\\Hubert\\.julia\\packages\\Blink\\1QOOi\\src\\AtomShell\\main.js'\u001b[24m \u001b[4mport\u001b[24m \u001b[4m9051\u001b[24m`, ProcessRunning), Sockets.TCPSocket(Base.Libc.WindowsRawSocket(0x0000000000000378) active, 0 bytes waiting), Dict{String,Any}(\"callback\"=>##1#2())), Page(21, #undef, Dict{String,Any}(\"get_user\"=>##77#78(),\"callback\"=>##1#2()), Distributed.Future(1, 1, 21, nothing)))"
      ]
     },
     "execution_count": 196,
     "metadata": {},
     "output_type": "execute_result"
    }
   ],
   "source": [
    "user_info = []\n",
    "w1 = Window()\n",
    "f1 = open(\"w1.html\") do file\n",
    "    read(file,String)\n",
    "    end\n",
    "handle(w1, \"get_user\") do arg\n",
    "    append!(user_info, arg)\n",
    "end\n",
    "body!(w1, f1)"
   ]
  },
  {
   "cell_type": "code",
   "execution_count": 198,
   "metadata": {},
   "outputs": [
    {
     "data": {
      "text/plain": [
       "2200"
      ]
     },
     "execution_count": 198,
     "metadata": {},
     "output_type": "execute_result"
    }
   ],
   "source": [
    "if (user_info[1]=='1')\n",
    "    calories = select(female_table, parse(Int, user_info[3]))[parse(Int, user_info[2])]\n",
    "    else\n",
    "    calories = select(male_table, parse(Int, user_info[3]))[parse(Int, user_info[2])]\n",
    "end"
   ]
  },
  {
   "cell_type": "code",
   "execution_count": 201,
   "metadata": {},
   "outputs": [
    {
     "data": {
      "text/plain": [
       "Window(24, Electron(Process(`\u001b[4m'C:\\Users\\Hubert\\.julia\\packages\\Blink\\1QOOi\\deps\\atom\\electron.exe'\u001b[24m \u001b[4m'C:\\Users\\Hubert\\.julia\\packages\\Blink\\1QOOi\\src\\AtomShell\\main.js'\u001b[24m \u001b[4mport\u001b[24m \u001b[4m9051\u001b[24m`, ProcessRunning), Sockets.TCPSocket(Base.Libc.WindowsRawSocket(0x0000000000000378) active, 0 bytes waiting), Dict{String,Any}(\"callback\"=>##1#2())), Page(24, #undef, Dict{String,Any}(\"callback\"=>##1#2()), Distributed.Future(1, 1, 24, nothing)))"
      ]
     },
     "execution_count": 201,
     "metadata": {},
     "output_type": "execute_result"
    }
   ],
   "source": [
    "Blink.AtomShell.@dot w1 close()\n",
    "w2 = Window()\n",
    "@js w2 x8 = $calories\n",
    "f2 = open(\"w2.html\") do file\n",
    "    read(file,String)\n",
    "    end\n",
    "body!(w2, f2)"
   ]
  },
  {
   "cell_type": "markdown",
   "metadata": {},
   "source": [
    "# --food database--"
   ]
  },
  {
   "cell_type": "code",
   "execution_count": 174,
   "metadata": {},
   "outputs": [
    {
     "data": {
      "text/plain": [
       "Table with 30 rows, 13 columns:\n",
       "Columns:\n",
       "\u001b[1m#   \u001b[22m\u001b[1mcolname        \u001b[22m\u001b[1mtype\u001b[22m\n",
       "──────────────────────────\n",
       "1   id             Int64\n",
       "2   food           String\n",
       "3   total_fat      Float64\n",
       "4   sodium         Float64\n",
       "5   cholesterol    Float64\n",
       "6   saturated_fat  Float64\n",
       "7   calcium        Float64\n",
       "8   magnesium      Float64\n",
       "9   fiber          Float64\n",
       "10  potassium      Float64\n",
       "11  calories       Float64\n",
       "12  weight         Int64\n",
       "13  cost           Float64"
      ]
     },
     "execution_count": 174,
     "metadata": {},
     "output_type": "execute_result"
    }
   ],
   "source": [
    "id = [1,2,3,4,5,6,7,8,9,10,11,12,13,14,15,16,17,18,19,20,21,22,23,24,25,26,27,28,29,30]\n",
    "food = [\"carrot\", \"ground nut\", \"bread\", \"sweet potato\", \"milk\", \"orange\", \"watermelon\", \"fish (roasted)\", \"mushroom\", \"peas\", \"brussels\", \"tomatoe\", \"banana\", \"apple\", \"grapefruit\", \"pasta\", \"rice\", \"spinach\", \"chicken (fried)\", \"chicken (roasted)\", \"bacon\", \"duck (roasted)\", \"egg\", \"fish (fried)\", \"tofu\", \"beef\", \"yogurt\", \"cottage cheese\", \"cheese cheddar\", \"barley\"]\n",
    "total_fat = [0.24, 11.48, 0.58, 0.3, 0.1, 0.48, 0.16, 4.1, 0.6, 0.4, 0.1, 0.2, 0.4, 0.2, 0.3, 6.9, 0.4, 0.5, 15.3, 3.6, 31., 28.4, 0, 13.8, 12.2, 28.4, 3.8, 9, 33.1, 0.7]\n",
    "sodium = [33.6, 1.5, 124.8, 15, 8.1, 3.2, 2.4, 73, 26.6, 6.4, 4.4, 6.2, 1.2, 0, 0, 77.1, 1.6, 126, 99, 74, 188, 59, 358, 122, 2.4, 682, 171, 764, 621, 4.7]\n",
    "cholesterol = [0, 0, 0, 0, 3, 0, 0, 0.29, 0, 0, 0, 0, 0, 0, 0, 5.1, 0, 0, 93, 85, 8.8, 84, 0, 59, 0, 56, 14.7, 35.7, 105, 0]\n",
    "saturated_fat = [0, 1.55, 0.2, 0, 0.60, 0, 0, 34, 0, 0.1, 0, 0, 0.1, 0, 0, 1.8, 0.1, 0.1, 4.1, 1, 1, 9.7, 0, 3.2, 1.8, 11.7, 2.5, 3.6, 21.1, 0.1]\n",
    "calcium = [28, 4.25, 12.25, 24, 25, 49.6, 5.6, 40, 4.4, 67.2, 7.6, 12.3, 5.9, 0.1, 50.6, 56.5, 15.8, 245, 26, 15, 0.9, 11, 17.4, 50, 421, 12, 448, 174, 721, 17.3]\n",
    "magnesium = [9.6, 47.75, 13.25, 14, 2.4, 17.6, 8, 43, 26.6, 41.6, 4.2, 13.5, 31.9, 6.4, 20.7, 54, 19, 157, 25, 29, 45.8, 16, 24.6, 43, 64.7, 10, 41.7, 16.8, 28, 34.5]\n",
    "fiber = [2.48, 2.33, 1.55, 3, 0, 2.72, 0.29, 0, 3.4, 4.5, 0.5, 1.5, 3.1, 2.1, 3.7, 6.7, 0.6, 4.3, 0, 0, 0, 0, 0, 0, 0.7, 0, 0, 0, 0, 6]\n",
    "potassium = [212.8, 181.75, 56.5, 264, 31, 265.6, 87.2, 549, 622, 384, 66.6, 292, 422, 145, 311, 812, 55.3, 839, 251, 256, 45.8, 204, 315, 155, 178, 155, 573, 218, 98, 146]\n",
    "calories = [28, 144.5, 58.5, 90, 7, 72, 23.2, 151, 63.6, 67.2, 7.6, 22.1, 105, 77.3, 96.6, 224, 205, 41.4, 288, 165, 41.3, 337, 107, 228, 122, 313, 154, 206, 403, 193]\n",
    "weight = [80, 25, 25, 100, 20, 160, 80, 100, 148, 160, 21, 123, 118, 161, 230, 257, 158, 180, 100, 100, 8, 100, 28, 100, 122, 100, 245, 210, 100, 157]\n",
    "cost = [0.3, 1.99, 0.16, 0.39, 0.12, 0.7, 0.6, 7.99, 1.18, 1.03, 0.14, 1.35, 0.53, 0.37, 0.8, 2.03, 0.93, 1.6, 1.89, 1.89, 0.17, 1.595, 0.4, 7.99, 2.44, 1.19, 2.93, 4.11, 0.49, 0.58]\n",
    "food_table = table(id, food, total_fat, sodium, cholesterol, saturated_fat, calcium, magnesium, fiber, potassium, calories, weight, cost; names = [:id, :food, :total_fat, :sodium, :cholesterol, :saturated_fat, :calcium, :magnesium, :fiber, :potassium, :calories, :weight, :cost])"
   ]
  },
  {
   "cell_type": "markdown",
   "metadata": {},
   "source": [
    "# --food choosing--"
   ]
  },
  {
   "cell_type": "code",
   "execution_count": null,
   "metadata": {},
   "outputs": [],
   "source": []
  }
 ],
 "metadata": {
  "kernelspec": {
   "display_name": "Julia 1.0.3",
   "language": "julia",
   "name": "julia-1.0"
  },
  "language_info": {
   "file_extension": ".jl",
   "mimetype": "application/julia",
   "name": "julia",
   "version": "1.0.3"
  }
 },
 "nbformat": 4,
 "nbformat_minor": 2
}
