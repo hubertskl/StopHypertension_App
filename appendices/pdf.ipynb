{
 "cells": [
  {
   "cell_type": "markdown",
   "metadata": {},
   "source": [
    "# Appendix - solution\n",
    "https://file.scirp.org/pdf/OJOp_2016030413282054.pdf"
   ]
  },
  {
   "cell_type": "code",
   "execution_count": 1,
   "metadata": {},
   "outputs": [],
   "source": [
    "using JuMP\n",
    "using GLPKMathProgInterface"
   ]
  },
  {
   "cell_type": "code",
   "execution_count": 2,
   "metadata": {},
   "outputs": [
    {
     "data": {
      "text/latex": [
       "$$ \\begin{alignat*}{1}\\min\\quad & 0\\\\\n",
       "\\text{Subject to} \\quad\\end{alignat*}\n",
       " $$"
      ],
      "text/plain": [
       "Feasibility problem with:\n",
       " * 0 linear constraints\n",
       " * 0 variables\n",
       "Solver is GLPKMathProgInterface.GLPKInterfaceLP.GLPK"
      ]
     },
     "execution_count": 2,
     "metadata": {},
     "output_type": "execute_result"
    }
   ],
   "source": [
    "dash = Model(solver = GLPKSolverLP())"
   ]
  },
  {
   "cell_type": "code",
   "execution_count": 3,
   "metadata": {},
   "outputs": [
    {
     "data": {
      "text/latex": [
       "$$ x8 $$"
      ],
      "text/plain": [
       "x8"
      ]
     },
     "execution_count": 3,
     "metadata": {},
     "output_type": "execute_result"
    }
   ],
   "source": [
    "@variable(dash, x1)\n",
    "@variable(dash, x2)\n",
    "@variable(dash, x3)\n",
    "@variable(dash, x4)\n",
    "@variable(dash, x5)\n",
    "@variable(dash, x6)\n",
    "@variable(dash, x7)\n",
    "@variable(dash, x8)"
   ]
  },
  {
   "cell_type": "code",
   "execution_count": 4,
   "metadata": {},
   "outputs": [
    {
     "data": {
      "text/latex": [
       "$$ 15 x1 + 20 x2 + 15 x3 + 15 x4 + 30 x5 + 15 x6 + 15 x7 + 50 x8 $$"
      ],
      "text/plain": [
       "15 x1 + 20 x2 + 15 x3 + 15 x4 + 30 x5 + 15 x6 + 15 x7 + 50 x8"
      ]
     },
     "execution_count": 4,
     "metadata": {},
     "output_type": "execute_result"
    }
   ],
   "source": [
    "@objective(dash, Min, 15x1+20x2+15x3+15x4+30x5+15x6+15x7+50x8)"
   ]
  },
  {
   "cell_type": "code",
   "execution_count": 5,
   "metadata": {},
   "outputs": [
    {
     "data": {
      "text/latex": [
       "$$ 0.24 x1 + 11.48 x2 + 0.58 x3 + 0.3 x4 + 0.1 x5 + 0.48 x6 + 0.16 x7 + 4.1 x8 \\leq 68 $$"
      ],
      "text/plain": [
       "0.24 x1 + 11.48 x2 + 0.58 x3 + 0.3 x4 + 0.1 x5 + 0.48 x6 + 0.16 x7 + 4.1 x8 ≤ 68"
      ]
     },
     "execution_count": 5,
     "metadata": {},
     "output_type": "execute_result"
    }
   ],
   "source": [
    "@constraint(dash, 0.24x1+11.48x2+0.58x3+0.3x4+0.1x5+0.48x6+0.16x7+4.1x8<=68)"
   ]
  },
  {
   "cell_type": "code",
   "execution_count": 6,
   "metadata": {},
   "outputs": [
    {
     "data": {
      "text/latex": [
       "$$ 33.6 x1 + 1.5 x2 + 124.8 x3 + 15 x4 + 8.1 x5 + 3.2 x6 + 2.4 x7 + 73 x8 \\leq 1500 $$"
      ],
      "text/plain": [
       "33.6 x1 + 1.5 x2 + 124.8 x3 + 15 x4 + 8.1 x5 + 3.2 x6 + 2.4 x7 + 73 x8 ≤ 1500"
      ]
     },
     "execution_count": 6,
     "metadata": {},
     "output_type": "execute_result"
    }
   ],
   "source": [
    "@constraint(dash, 33.6x1+1.5x2+124.8x3+15x4+8.1x5+3.2x6+2.4x7+73x8<=1500)"
   ]
  },
  {
   "cell_type": "code",
   "execution_count": 7,
   "metadata": {},
   "outputs": [
    {
     "data": {
      "text/latex": [
       "$$ 3 x5 + 0.29 x8 \\leq 129 $$"
      ],
      "text/plain": [
       "3 x5 + 0.29 x8 ≤ 129"
      ]
     },
     "execution_count": 7,
     "metadata": {},
     "output_type": "execute_result"
    }
   ],
   "source": [
    "@constraint(dash, 3x5+0.29x8<=129)"
   ]
  },
  {
   "cell_type": "code",
   "execution_count": 8,
   "metadata": {},
   "outputs": [
    {
     "data": {
      "text/latex": [
       "$$ 1.55 x2 + 0.2 x3 + 0.6 x5 + 340 x8 \\leq 16 $$"
      ],
      "text/plain": [
       "1.55 x2 + 0.2 x3 + 0.6 x5 + 340 x8 ≤ 16"
      ]
     },
     "execution_count": 8,
     "metadata": {},
     "output_type": "execute_result"
    }
   ],
   "source": [
    "@constraint(dash, 1.55x2+0.2x3+0.6x5+340x8<=16)"
   ]
  },
  {
   "cell_type": "code",
   "execution_count": 9,
   "metadata": {},
   "outputs": [
    {
     "data": {
      "text/latex": [
       "$$ 28 x1 + 4.25 x2 + 12.25 x3 + 24 x4 + 250 x5 + 49.6 x6 + 5.6 x7 + 40 x8 \\geq 1334 $$"
      ],
      "text/plain": [
       "28 x1 + 4.25 x2 + 12.25 x3 + 24 x4 + 250 x5 + 49.6 x6 + 5.6 x7 + 40 x8 ≥ 1334"
      ]
     },
     "execution_count": 9,
     "metadata": {},
     "output_type": "execute_result"
    }
   ],
   "source": [
    "@constraint(dash, 28x1+4.25x2+12.25x3+24x4+250x5+49.6x6+5.6x7+40x8>=1334)"
   ]
  },
  {
   "cell_type": "code",
   "execution_count": 10,
   "metadata": {},
   "outputs": [
    {
     "data": {
      "text/latex": [
       "$$ 9.6 x1 + 47.75 x2 + 13.25 x3 + 14 x4 + 2.4 x5 + 17.6 x6 + 8 x7 + 43 x8 \\geq 542 $$"
      ],
      "text/plain": [
       "9.6 x1 + 47.75 x2 + 13.25 x3 + 14 x4 + 2.4 x5 + 17.6 x6 + 8 x7 + 43 x8 ≥ 542"
      ]
     },
     "execution_count": 10,
     "metadata": {},
     "output_type": "execute_result"
    }
   ],
   "source": [
    "@constraint(dash, 9.6x1+47.75x2+13.25x3+14x4+2.4x5+17.6x6+8x7+43x8>=542)"
   ]
  },
  {
   "cell_type": "code",
   "execution_count": 11,
   "metadata": {},
   "outputs": [
    {
     "data": {
      "text/latex": [
       "$$ 2.48 x1 + 2.33 x2 + 1.55 x3 + 3 x4 + 2.72 x6 + 0.24 x7 \\geq 34 $$"
      ],
      "text/plain": [
       "2.48 x1 + 2.33 x2 + 1.55 x3 + 3 x4 + 2.72 x6 + 0.24 x7 ≥ 34"
      ]
     },
     "execution_count": 11,
     "metadata": {},
     "output_type": "execute_result"
    }
   ],
   "source": [
    "@constraint(dash, 2.48x1+2.33x2+1.55x3+3x4+2.72x6+0.24x7>=34)"
   ]
  },
  {
   "cell_type": "code",
   "execution_count": 12,
   "metadata": {},
   "outputs": [
    {
     "data": {
      "text/latex": [
       "$$ 212.8 x1 + 181.75 x2 + 56.5 x3 + 264 x4 + 31 x5 + 262.6 x6 + 87.2 x7 + 397 x8 \\geq 4721 $$"
      ],
      "text/plain": [
       "212.8 x1 + 181.75 x2 + 56.5 x3 + 264 x4 + 31 x5 + 262.6 x6 + 87.2 x7 + 397 x8 ≥ 4721"
      ]
     },
     "execution_count": 12,
     "metadata": {},
     "output_type": "execute_result"
    }
   ],
   "source": [
    "@constraint(dash, 212.8x1+181.75x2+56.5x3+264x4+31x5+262.6x6+87.2x7+397x8>=4721)"
   ]
  },
  {
   "cell_type": "code",
   "execution_count": 13,
   "metadata": {},
   "outputs": [
    {
     "data": {
      "text/latex": [
       "$$ 20 x1 + 144.5 x2 + 58.5 x3 + 90 x4 + 7 x5 + 72 x6 + 23.2 x7 + 151 x8 = 2000 $$"
      ],
      "text/plain": [
       "20 x1 + 144.5 x2 + 58.5 x3 + 90 x4 + 7 x5 + 72 x6 + 23.2 x7 + 151 x8 = 2000"
      ]
     },
     "execution_count": 13,
     "metadata": {},
     "output_type": "execute_result"
    }
   ],
   "source": [
    "@constraint(dash, 20x1+144.5x2+58.5x3+90x4+7x5+72x6+23.2x7+151x8==2000)"
   ]
  },
  {
   "cell_type": "code",
   "execution_count": 14,
   "metadata": {},
   "outputs": [
    {
     "data": {
      "text/latex": [
       "$$ 4 \\leq x1 \\leq 20 $$"
      ],
      "text/plain": [
       "4 ≤ x1 ≤ 20"
      ]
     },
     "execution_count": 14,
     "metadata": {},
     "output_type": "execute_result"
    }
   ],
   "source": [
    "@constraint(dash, 4 <= x1 <= 20)"
   ]
  },
  {
   "cell_type": "code",
   "execution_count": 15,
   "metadata": {},
   "outputs": [
    {
     "data": {
      "text/latex": [
       "$$ 0 \\leq x2 \\leq 1 $$"
      ],
      "text/plain": [
       "0 ≤ x2 ≤ 1"
      ]
     },
     "execution_count": 15,
     "metadata": {},
     "output_type": "execute_result"
    }
   ],
   "source": [
    "@constraint(dash, 0 <= x2 <= 1)"
   ]
  },
  {
   "cell_type": "code",
   "execution_count": 16,
   "metadata": {},
   "outputs": [
    {
     "data": {
      "text/latex": [
       "$$ 3 \\leq x3 \\leq 8 $$"
      ],
      "text/plain": [
       "3 ≤ x3 ≤ 8"
      ]
     },
     "execution_count": 16,
     "metadata": {},
     "output_type": "execute_result"
    }
   ],
   "source": [
    "@constraint(dash, 3 <= x3 <= 8)"
   ]
  },
  {
   "cell_type": "code",
   "execution_count": 17,
   "metadata": {},
   "outputs": [
    {
     "data": {
      "text/latex": [
       "$$ 4 \\leq x4 \\leq 6 $$"
      ],
      "text/plain": [
       "4 ≤ x4 ≤ 6"
      ]
     },
     "execution_count": 17,
     "metadata": {},
     "output_type": "execute_result"
    }
   ],
   "source": [
    "@constraint(dash, 4 <= x4 <= 6)"
   ]
  },
  {
   "cell_type": "code",
   "execution_count": 18,
   "metadata": {},
   "outputs": [
    {
     "data": {
      "text/latex": [
       "$$ 6 \\leq x5 \\leq 9 $$"
      ],
      "text/plain": [
       "6 ≤ x5 ≤ 9"
      ]
     },
     "execution_count": 18,
     "metadata": {},
     "output_type": "execute_result"
    }
   ],
   "source": [
    "@constraint(dash, 6 <= x5 <= 9)"
   ]
  },
  {
   "cell_type": "code",
   "execution_count": 19,
   "metadata": {},
   "outputs": [
    {
     "data": {
      "text/latex": [
       "$$ 4 \\leq x6 \\leq 8 $$"
      ],
      "text/plain": [
       "4 ≤ x6 ≤ 8"
      ]
     },
     "execution_count": 19,
     "metadata": {},
     "output_type": "execute_result"
    }
   ],
   "source": [
    "@constraint(dash, 4 <= x6 <= 8)"
   ]
  },
  {
   "cell_type": "code",
   "execution_count": 20,
   "metadata": {},
   "outputs": [
    {
     "data": {
      "text/latex": [
       "$$ 4 \\leq x7 \\leq 9 $$"
      ],
      "text/plain": [
       "4 ≤ x7 ≤ 9"
      ]
     },
     "execution_count": 20,
     "metadata": {},
     "output_type": "execute_result"
    }
   ],
   "source": [
    "@constraint(dash, 4 <= x7 <= 9)"
   ]
  },
  {
   "cell_type": "code",
   "execution_count": 21,
   "metadata": {},
   "outputs": [
    {
     "data": {
      "text/latex": [
       "$$ 0 \\leq x8 \\leq 6 $$"
      ],
      "text/plain": [
       "0 ≤ x8 ≤ 6"
      ]
     },
     "execution_count": 21,
     "metadata": {},
     "output_type": "execute_result"
    }
   ],
   "source": [
    "@constraint(dash, 0 <= x8 <= 6)"
   ]
  },
  {
   "cell_type": "code",
   "execution_count": 22,
   "metadata": {},
   "outputs": [
    {
     "data": {
      "text/plain": [
       ":Optimal"
      ]
     },
     "execution_count": 22,
     "metadata": {},
     "output_type": "execute_result"
    }
   ],
   "source": [
    "solve(dash)"
   ]
  },
  {
   "cell_type": "code",
   "execution_count": 23,
   "metadata": {},
   "outputs": [
    {
     "name": "stdout",
     "output_type": "stream",
     "text": [
      "Min cost: 787.9956295989577\n"
     ]
    }
   ],
   "source": [
    "println(\"Min cost: \", getobjectivevalue(dash))"
   ]
  },
  {
   "cell_type": "code",
   "execution_count": 24,
   "metadata": {},
   "outputs": [
    {
     "name": "stdout",
     "output_type": "stream",
     "text": [
      "x1: 15.626432989817337\n",
      "x2: 1.0\n",
      "x3: 6.5155455163967915\n",
      "x4: 4.964133164140691\n",
      "x5: 6.000000000000002\n",
      "x6: 8.0\n",
      "x7: 4.0\n",
      "x8: 0.028079090872707765\n"
     ]
    }
   ],
   "source": [
    "println(\"x1: \", getvalue(x1))\n",
    "println(\"x2: \", getvalue(x2))\n",
    "println(\"x3: \", getvalue(x3))\n",
    "println(\"x4: \", getvalue(x4))\n",
    "println(\"x5: \", getvalue(x5))\n",
    "println(\"x6: \", getvalue(x6))\n",
    "println(\"x7: \", getvalue(x7))\n",
    "println(\"x8: \", getvalue(x8))"
   ]
  }
 ],
 "metadata": {
  "kernelspec": {
   "display_name": "Julia 1.0.3",
   "language": "julia",
   "name": "julia-1.0"
  },
  "language_info": {
   "file_extension": ".jl",
   "mimetype": "application/julia",
   "name": "julia",
   "version": "1.0.3"
  }
 },
 "nbformat": 4,
 "nbformat_minor": 2
}
