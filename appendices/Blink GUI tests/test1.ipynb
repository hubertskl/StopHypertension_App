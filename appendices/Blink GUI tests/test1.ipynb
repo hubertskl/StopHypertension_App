{
 "cells": [
  {
   "cell_type": "code",
   "execution_count": 1,
   "metadata": {},
   "outputs": [
    {
     "data": {
      "text/html": [
       "<script>\n",
       "// Immediately-invoked-function-expression to avoid global variables.\n",
       "(function() {\n",
       "    var warning_div = document.getElementById(\"webio-warning-4278117004207091877\");\n",
       "    var hide = function () {\n",
       "        var script = document.getElementById(\"webio-setup-14685119375863468539\");\n",
       "        var parent = script && script.parentElement;\n",
       "        var grandparent = parent && parent.parentElement;\n",
       "        if (grandparent) {\n",
       "            grandparent.style.display = \"none\";\n",
       "        }\n",
       "        warning_div.style.display = \"none\";\n",
       "    };\n",
       "    if (typeof Jupyter !== \"undefined\") {\n",
       "        console.log(\"WebIO detected Jupyter notebook environment.\");\n",
       "        // Jupyter notebook.\n",
       "        var extensions = (\n",
       "            Jupyter\n",
       "            && Jupyter.notebook.config.data\n",
       "            && Jupyter.notebook.config.data.load_extensions\n",
       "        );\n",
       "        if (extensions && extensions[\"webio/main\"]) {\n",
       "            // Extension already loaded.\n",
       "            console.log(\"Jupyter WebIO nbextension detected; not loading ad-hoc.\");\n",
       "            hide();\n",
       "            return;\n",
       "        }\n",
       "        console.warn(\"Loading WebIO Jupyter extension on an ad-hoc basis. Consider enabling the WebIO nbextension for a stabler experience (this should happen automatically when building WebIO).\");\n",
       "        require([\"/assetserver/df2f5fa3feb4bfe25324dec74584e1502bbdcd15-dist/main.js\"], function (webIOModule) {\n",
       "            webIOModule.load_ipython_extension();\n",
       "        });\n",
       "        warning_div.innerHTML = \"<strong>Loading WebIO Jupyter extension on an ad-hoc basis. Consider enabling the WebIO nbextension for a stabler experience (this should happen automatically when building WebIO).</strong>\";\n",
       "    } else if (window.location.pathname.includes(\"/lab\")) {\n",
       "        // Guessing JupyterLa\n",
       "        console.log(\"Jupyter Lab detected; make sure the @webio/jupyter-lab-provider labextension is installed.\");\n",
       "        hide();\n",
       "        return;\n",
       "    }\n",
       "})();\n",
       "\n",
       "</script>\n",
       "<div\n",
       "    id=\"webio-warning-4278117004207091877\"\n",
       "    class=\"output_text output_stderr\"\n",
       "    style=\"padding: 1em; font-weight: bold;\"\n",
       ">\n",
       "    Unable to load WebIO. Please make sure WebIO works for your Jupyter client.\n",
       "    <!-- TODO: link to installation docs. -->\n",
       "</div>\n"
      ],
      "text/plain": [
       "HTML{String}(\"<script>\\n// Immediately-invoked-function-expression to avoid global variables.\\n(function() {\\n    var warning_div = document.getElementById(\\\"webio-warning-4278117004207091877\\\");\\n    var hide = function () {\\n        var script = document.getElementById(\\\"webio-setup-14685119375863468539\\\");\\n        var parent = script && script.parentElement;\\n        var grandparent = parent && parent.parentElement;\\n        if (grandparent) {\\n            grandparent.style.display = \\\"none\\\";\\n        }\\n        warning_div.style.display = \\\"none\\\";\\n    };\\n    if (typeof Jupyter !== \\\"undefined\\\") {\\n        console.log(\\\"WebIO detected Jupyter notebook environment.\\\");\\n        // Jupyter notebook.\\n        var extensions = (\\n            Jupyter\\n            && Jupyter.notebook.config.data\\n            && Jupyter.notebook.config.data.load_extensions\\n        );\\n        if (extensions && extensions[\\\"webio/main\\\"]) {\\n            // Extension already loaded.\\n            console.log(\\\"Jupyter WebIO nbextension detected; not loading ad-hoc.\\\");\\n            hide();\\n            return;\\n        }\\n        console.warn(\\\"Loading WebIO Jupyter extension on an ad-hoc basis. Consider enabling the WebIO nbextension for a stabler experience (this should happen automatically when building WebIO).\\\");\\n        require([\\\"/assetserver/df2f5fa3feb4bfe25324dec74584e1502bbdcd15-dist/main.js\\\"], function (webIOModule) {\\n            webIOModule.load_ipython_extension();\\n        });\\n        warning_div.innerHTML = \\\"<strong>Loading WebIO Jupyter extension on an ad-hoc basis. Consider enabling the WebIO nbextension for a stabler experience (this should happen automatically when building WebIO).</strong>\\\";\\n    } else if (window.location.pathname.includes(\\\"/lab\\\")) {\\n        // Guessing JupyterLa\\n        console.log(\\\"Jupyter Lab detected; make sure the @webio/jupyter-lab-provider labextension is installed.\\\");\\n        hide();\\n        return;\\n    }\\n})();\\n\\n</script>\\n<div\\n    id=\\\"webio-warning-4278117004207091877\\\"\\n    class=\\\"output_text output_stderr\\\"\\n    style=\\\"padding: 1em; font-weight: bold;\\\"\\n>\\n    Unable to load WebIO. Please make sure WebIO works for your Jupyter client.\\n    <!-- TODO: link to installation docs. -->\\n</div>\\n\")"
      ]
     },
     "metadata": {},
     "output_type": "display_data"
    }
   ],
   "source": [
    "using Blink"
   ]
  },
  {
   "cell_type": "code",
   "execution_count": 2,
   "metadata": {},
   "outputs": [
    {
     "data": {
      "text/plain": [
       "Window(1, Electron(Process(`\u001b[4m'C:\\Users\\Hubert\\.julia\\packages\\Blink\\1QOOi\\deps\\atom\\electron.exe'\u001b[24m \u001b[4m'C:\\Users\\Hubert\\.julia\\packages\\Blink\\1QOOi\\src\\AtomShell\\main.js'\u001b[24m \u001b[4mport\u001b[24m \u001b[4m9654\u001b[24m`, ProcessRunning), Sockets.TCPSocket(Base.Libc.WindowsRawSocket(0x0000000000000414) active, 0 bytes waiting), Dict{String,Any}(\"callback\"=>##1#2())), Page(1, #undef, Dict{String,Any}(\"callback\"=>##1#2()), Distributed.Future(1, 1, 1, nothing)))"
      ]
     },
     "execution_count": 2,
     "metadata": {},
     "output_type": "execute_result"
    }
   ],
   "source": [
    "w = Window()"
   ]
  },
  {
   "cell_type": "code",
   "execution_count": 3,
   "metadata": {
    "scrolled": true
   },
   "outputs": [
    {
     "data": {
      "text/plain": [
       "\"<!DOCTYPE html>\\r\\n<html lang = \\\"pl\\\">\\r\\n<head>\\r\\n\\t<title>Test1</title>\\r\\n\\t<meta charset = \\\"utf-8\\\">\\r\\n\\t<link rel = \\\"stylesheet\\\" type = \\\"text/css\\\" href = \\\"\\\">\\r\\n</head>\\r\\n\\r\\n<style type=\\\"text/css\\\">\\r\\n\\r\\n\\r\\n</style>\\r\\n\\r\\n<body>\\r\\n\\r\\n\\tHello, please input five values you want to work with :)<br><br>\\r\\n\\t\\r\\n\\t<form id=\\\"values\\\">\\r\\n\\t\\tvalue1: <input type=\\\"number\\\" name=\\\"value1\\\" id=\\\"value1\\\"><br>\\r\\n\\t\\tvalue2: <input type=\\\"number\\\" name=\\\"value2\\\" id=\\\"value2\\\"><br>\\r\\n\\t\\tvalue3: <input type=\\\"number\\\" name=\\\"value3\\\" id=\\\"value3\\\"><br>\\r\\n\\t\\tvalue4: <input type=\\\"number\\\" name=\\\"value4\\\" id=\\\"value4\\\"><br>\\r\\n\\t\\tvalue5: <input type=\\\"number\\\" name=\\\"value5\\\" id=\\\"value5\\\"><br><br>\\r\\n\\t\\t<input type=\\\"button\\\" onclick=\\\"addToArray()\\\" value=\\\"Submit\\\">\\r\\n\\t</form>\\r\\n\\t\\t\\r\\n\\t<script>\\r\\n\\t\\tfunction addToArray() {\\r\\n\\t\\tvar val1 = document.getElementById(\\\"value1\\\").value;\\r\\n\\t\\tvar val2 = document.getElementById(\\\"value2\\\").value;\\r\\n\\t\\tvar val3 = document.getElementById(\\\"value3\\\").value;\\r\\n\\t\\tvar val4 = document.getElementById(\\\"value4\\\").value;\\r\\n\\t\\tvar val5 = document.getElementById(\\\"value5\\\").value;\\r\\n\\t\\t\\r\\n\\t\\tBlink.msg(\\\"press\\\", val1)\\r\\n\\t\\tBlink.msg(\\\"press\\\", val2)\\r\\n\\t\\tBlink.msg(\\\"press\\\", val3)\\r\\n\\t\\tBlink.msg(\\\"press\\\", val4)\\r\\n\\t\\tBlink.msg(\\\"press\\\", val5)\\r\\n\\t\\t}\\r\\n\\t\\t\\r\\n\\t\\t\\r\\n\\t</script>\\r\\n\\t\\r\\n\\r\\n\\r\\n</body>\\r\\n</html>\""
      ]
     },
     "execution_count": 3,
     "metadata": {},
     "output_type": "execute_result"
    }
   ],
   "source": [
    "f = open(\"test1.html\") do file\n",
    "    read(file,String)\n",
    "end"
   ]
  },
  {
   "cell_type": "code",
   "execution_count": 4,
   "metadata": {},
   "outputs": [
    {
     "data": {
      "text/plain": [
       "0-element Array{Any,1}"
      ]
     },
     "execution_count": 4,
     "metadata": {},
     "output_type": "execute_result"
    }
   ],
   "source": [
    "array = []"
   ]
  },
  {
   "cell_type": "code",
   "execution_count": 7,
   "metadata": {},
   "outputs": [
    {
     "data": {
      "text/plain": [
       "doSth (generic function with 1 method)"
      ]
     },
     "execution_count": 7,
     "metadata": {},
     "output_type": "execute_result"
    }
   ],
   "source": [
    "function doSth(y)\n",
    "    for i in 1:5\n",
    "        y[i] = y[i]^2\n",
    "    end\n",
    "end"
   ]
  },
  {
   "cell_type": "code",
   "execution_count": 5,
   "metadata": {},
   "outputs": [
    {
     "data": {
      "text/plain": [
       "#5 (generic function with 1 method)"
      ]
     },
     "execution_count": 5,
     "metadata": {},
     "output_type": "execute_result"
    }
   ],
   "source": [
    "body!(w, f)\n",
    "handle(w, \"press\") do arg\n",
    "    append!(array, arg)\n",
    "end"
   ]
  },
  {
   "cell_type": "code",
   "execution_count": 8,
   "metadata": {},
   "outputs": [],
   "source": [
    "doSth(array)"
   ]
  },
  {
   "cell_type": "code",
   "execution_count": 9,
   "metadata": {},
   "outputs": [
    {
     "data": {
      "text/plain": [
       "5-element Array{Any,1}:\n",
       " \"44\"\n",
       " \"33\"\n",
       " \"22\"\n",
       " \"77\"\n",
       " \"11\""
      ]
     },
     "execution_count": 9,
     "metadata": {},
     "output_type": "execute_result"
    }
   ],
   "source": [
    "array"
   ]
  },
  {
   "cell_type": "code",
   "execution_count": 11,
   "metadata": {},
   "outputs": [
    {
     "data": {
      "text/plain": [
       "Window(2, Electron(Process(`\u001b[4m'C:\\Users\\Hubert\\.julia\\packages\\Blink\\1QOOi\\deps\\atom\\electron.exe'\u001b[24m \u001b[4m'C:\\Users\\Hubert\\.julia\\packages\\Blink\\1QOOi\\src\\AtomShell\\main.js'\u001b[24m \u001b[4mport\u001b[24m \u001b[4m9654\u001b[24m`, ProcessRunning), Sockets.TCPSocket(Base.Libc.WindowsRawSocket(0x0000000000000414) active, 0 bytes waiting), Dict{String,Any}(\"callback\"=>##1#2())), Page(2, #undef, Dict{String,Any}(\"callback\"=>##1#2()), Distributed.Future(1, 1, 2, nothing)))"
      ]
     },
     "execution_count": 11,
     "metadata": {},
     "output_type": "execute_result"
    }
   ],
   "source": [
    "o = Window()"
   ]
  },
  {
   "cell_type": "code",
   "execution_count": 12,
   "metadata": {},
   "outputs": [
    {
     "data": {
      "text/plain": [
       "\"<!DOCTYPE html>\\r\\n<html lang = \\\"pl\\\">\\r\\n<head>\\r\\n\\t<title>Test1</title>\\r\\n\\t<meta charset = \\\"utf-8\\\">\\r\\n\\t<link rel = \\\"stylesheet\\\" type = \\\"text/css\\\" href = \\\"\\\">\\r\\n</head>\\r\\n\\r\\n<style type=\\\"text/css\\\">\\r\\n\\r\\n\\r\\n</style>\\r\\n\\r\\n<body>\\r\\n\\r\\n\\tHello, welcome your new values :)<br><br>\\r\\n\\t\\r\\n\\t<script>\\r\\n\\tdocument.write(\\\"value1: \\\", val1, \\\"<br>\\\");\\r\\n\\tdocument.write(\\\"value2: \\\", val2, \\\"<br>\\\");\\r\\n\\tdocument.write(\\\"value3: \\\", val3, \\\"<br>\\\");\\r\\n\\tdocument.write(\\\"value4: \\\", val4, \\\"<br>\\\");\\r\\n\\tdocument.write(\\\"value5: \\\", val5, \\\"<br>\\\");\\r\\n\\t</script>\\r\\n\\t\\r\\n</body>\\r\\n</html>\""
      ]
     },
     "execution_count": 12,
     "metadata": {},
     "output_type": "execute_result"
    }
   ],
   "source": [
    "g = open(\"test1out.html\") do file\n",
    "    read(file,String)\n",
    "end"
   ]
  },
  {
   "cell_type": "code",
   "execution_count": 13,
   "metadata": {},
   "outputs": [],
   "source": [
    "@js o val1 = $array[0];\n",
    "@js o val2 = $array[1];\n",
    "@js o val3 = $array[2];\n",
    "@js o val4 = $array[3];\n",
    "@js o val5 = $array[4];"
   ]
  },
  {
   "cell_type": "code",
   "execution_count": 15,
   "metadata": {},
   "outputs": [
    {
     "data": {
      "text/plain": [
       "Page(2, WebSocket(server, \u001b[32mCONNECTED\u001b[39m), Dict{String,Any}(\"callback\"=>##1#2()), Distributed.Future(1, 1, 2, Some(true)))"
      ]
     },
     "execution_count": 15,
     "metadata": {},
     "output_type": "execute_result"
    }
   ],
   "source": [
    "body!(o, g)"
   ]
  },
  {
   "cell_type": "code",
   "execution_count": null,
   "metadata": {},
   "outputs": [],
   "source": []
  }
 ],
 "metadata": {
  "kernelspec": {
   "display_name": "Julia 1.0.3",
   "language": "julia",
   "name": "julia-1.0"
  },
  "language_info": {
   "file_extension": ".jl",
   "mimetype": "application/julia",
   "name": "julia",
   "version": "1.0.3"
  }
 },
 "nbformat": 4,
 "nbformat_minor": 2
}
