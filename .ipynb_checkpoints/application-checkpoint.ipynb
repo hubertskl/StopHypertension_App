{
 "cells": [
  {
   "cell_type": "markdown",
   "metadata": {},
   "source": [
    "# --packages--"
   ]
  },
  {
   "cell_type": "code",
   "execution_count": 2,
   "metadata": {},
   "outputs": [
    {
     "name": "stdout",
     "output_type": "stream",
     "text": [
      "\u001b[32m\u001b[1m  Updating\u001b[22m\u001b[39m registry at `C:\\Users\\Hubert\\.julia\\registries\\General`\n",
      "\u001b[32m\u001b[1m  Updating\u001b[22m\u001b[39m git-repo `https://github.com/JuliaRegistries/General.git`\n",
      "\u001b[2K\u001b[?25h[1mFetching:\u001b[22m\u001b[39m [========================================>]  100.0 %.0 %.9 % [====================>                    ]  48.2 % [=======================>                 ]  57.5 %==========================>              ]  64.0 % [==============================>          ]  74.5 % [==================================>      ]  84.6 %  ]  93.0 %\u001b[32m\u001b[1m Resolving\u001b[22m\u001b[39m package versions...\n",
      "\u001b[32m\u001b[1m Installed\u001b[22m\u001b[39m OnlineStatsBase ──── v0.10.2\n",
      "\u001b[32m\u001b[1m Installed\u001b[22m\u001b[39m TableTraitsUtils ─── v0.4.0\n",
      "\u001b[32m\u001b[1m Installed\u001b[22m\u001b[39m Glob ─────────────── v1.2.0\n",
      "\u001b[32m\u001b[1m Installed\u001b[22m\u001b[39m StructArrays ─────── v0.3.4\n",
      "\u001b[32m\u001b[1m Installed\u001b[22m\u001b[39m OnlineStats ──────── v0.23.0\n",
      "\u001b[32m\u001b[1m Installed\u001b[22m\u001b[39m LossFunctions ────── v0.5.1\n",
      "\u001b[32m\u001b[1m Installed\u001b[22m\u001b[39m JuliaDB ──────────── v0.12.0\n",
      "\u001b[32m\u001b[1m Installed\u001b[22m\u001b[39m StaticArrays ─────── v0.11.0\n",
      "\u001b[32m\u001b[1m Installed\u001b[22m\u001b[39m LearnBase ────────── v0.2.2\n",
      "\u001b[32m\u001b[1m Installed\u001b[22m\u001b[39m SweepOperator ────── v0.2.0\n",
      "\u001b[32m\u001b[1m Installed\u001b[22m\u001b[39m MemPool ──────────── v0.2.0\n",
      "\u001b[32m\u001b[1m Installed\u001b[22m\u001b[39m RecipesBase ──────── v0.6.0\n",
      "\u001b[32m\u001b[1m Installed\u001b[22m\u001b[39m WeakRefStrings ───── v0.5.8\n",
      "\u001b[32m\u001b[1m Installed\u001b[22m\u001b[39m Dagger ───────────── v0.8.0\n",
      "\u001b[32m\u001b[1m Installed\u001b[22m\u001b[39m DoubleFloats ─────── v0.9.1\n",
      "\u001b[32m\u001b[1m Installed\u001b[22m\u001b[39m Quadmath ─────────── v0.4.0\n",
      "\u001b[32m\u001b[1m Installed\u001b[22m\u001b[39m PenaltyFunctions ─── v0.1.2\n",
      "\u001b[32m\u001b[1m Installed\u001b[22m\u001b[39m DataValues ───────── v0.4.7\n",
      "\u001b[32m\u001b[1m Installed\u001b[22m\u001b[39m Nullables ────────── v0.0.8\n",
      "\u001b[32m\u001b[1m Installed\u001b[22m\u001b[39m Polynomials ──────── v0.5.2\n",
      "\u001b[32m\u001b[1m Installed\u001b[22m\u001b[39m PooledArrays ─────── v0.5.2\n",
      "\u001b[32m\u001b[1m Installed\u001b[22m\u001b[39m TranscodingStreams ─ v0.9.4\n",
      "\u001b[32m\u001b[1m Installed\u001b[22m\u001b[39m GenericSchur ─────── v0.2.3\n",
      "\u001b[32m\u001b[1m Installed\u001b[22m\u001b[39m TextParse ────────── v0.9.1\n",
      "\u001b[32m\u001b[1m Installed\u001b[22m\u001b[39m WebIO ────────────── v0.8.4\n",
      "\u001b[32m\u001b[1m Installed\u001b[22m\u001b[39m CodecZlib ────────── v0.5.2\n",
      "\u001b[32m\u001b[1m Installed\u001b[22m\u001b[39m GenericSVD ───────── v0.2.1\n",
      "\u001b[32m\u001b[1m Installed\u001b[22m\u001b[39m IndexedTables ────── v0.12.0\n",
      "\u001b[32m\u001b[1m  Updating\u001b[22m\u001b[39m `C:\\Users\\Hubert\\.julia\\environments\\v1.0\\Project.toml`\n",
      " \u001b[90m [a93385a2]\u001b[39m\u001b[92m + JuliaDB v0.12.0\u001b[39m\n",
      "\u001b[32m\u001b[1m  Updating\u001b[22m\u001b[39m `C:\\Users\\Hubert\\.julia\\environments\\v1.0\\Manifest.toml`\n",
      " \u001b[90m [944b1d66]\u001b[39m\u001b[92m + CodecZlib v0.5.2\u001b[39m\n",
      " \u001b[90m [d58978e5]\u001b[39m\u001b[92m + Dagger v0.8.0\u001b[39m\n",
      " \u001b[90m [e7dc6d0d]\u001b[39m\u001b[92m + DataValues v0.4.7\u001b[39m\n",
      " \u001b[90m [497a8b3b]\u001b[39m\u001b[92m + DoubleFloats v0.9.1\u001b[39m\n",
      " \u001b[90m [01680d73]\u001b[39m\u001b[92m + GenericSVD v0.2.1\u001b[39m\n",
      " \u001b[90m [c145ed77]\u001b[39m\u001b[92m + GenericSchur v0.2.3\u001b[39m\n",
      " \u001b[90m [c27321d9]\u001b[39m\u001b[92m + Glob v1.2.0\u001b[39m\n",
      " \u001b[90m [6deec6e2]\u001b[39m\u001b[92m + IndexedTables v0.12.0\u001b[39m\n",
      " \u001b[90m [a93385a2]\u001b[39m\u001b[92m + JuliaDB v0.12.0\u001b[39m\n",
      " \u001b[90m [7f8f8fb0]\u001b[39m\u001b[92m + LearnBase v0.2.2\u001b[39m\n",
      " \u001b[90m [30fc2ffe]\u001b[39m\u001b[92m + LossFunctions v0.5.1\u001b[39m\n",
      " \u001b[90m [f9f48841]\u001b[39m\u001b[92m + MemPool v0.2.0\u001b[39m\n",
      " \u001b[90m [4d1e1d77]\u001b[39m\u001b[92m + Nullables v0.0.8\u001b[39m\n",
      " \u001b[90m [a15396b6]\u001b[39m\u001b[92m + OnlineStats v0.23.0\u001b[39m\n",
      " \u001b[90m [925886fa]\u001b[39m\u001b[92m + OnlineStatsBase v0.10.2\u001b[39m\n",
      " \u001b[90m [06bb1623]\u001b[39m\u001b[92m + PenaltyFunctions v0.1.2\u001b[39m\n",
      " \u001b[90m [f27b6e38]\u001b[39m\u001b[92m + Polynomials v0.5.2\u001b[39m\n",
      " \u001b[90m [2dfb63ee]\u001b[39m\u001b[92m + PooledArrays v0.5.2\u001b[39m\n",
      " \u001b[90m [be4d8f0f]\u001b[39m\u001b[92m + Quadmath v0.4.0\u001b[39m\n",
      " \u001b[90m [3cdcf5f2]\u001b[39m\u001b[92m + RecipesBase v0.6.0\u001b[39m\n",
      " \u001b[90m [90137ffa]\u001b[39m\u001b[93m ↑ StaticArrays v0.10.3 ⇒ v0.11.0\u001b[39m\n",
      " \u001b[90m [09ab397b]\u001b[39m\u001b[92m + StructArrays v0.3.4\u001b[39m\n",
      " \u001b[90m [7522ee7d]\u001b[39m\u001b[92m + SweepOperator v0.2.0\u001b[39m\n",
      " \u001b[90m [382cd787]\u001b[39m\u001b[92m + TableTraitsUtils v0.4.0\u001b[39m\n",
      " \u001b[90m [e0df1984]\u001b[39m\u001b[92m + TextParse v0.9.1\u001b[39m\n",
      " \u001b[90m [3bb67fe8]\u001b[39m\u001b[92m + TranscodingStreams v0.9.4\u001b[39m\n",
      " \u001b[90m [ea10d353]\u001b[39m\u001b[92m + WeakRefStrings v0.5.8\u001b[39m\n",
      " \u001b[90m [0f1e0344]\u001b[39m\u001b[93m ↑ WebIO v0.8.1 ⇒ v0.8.4\u001b[39m\n",
      "\u001b[32m\u001b[1m  Building\u001b[22m\u001b[39m WebIO ────→ `C:\\Users\\Hubert\\.julia\\packages\\WebIO\\kk2q1\\deps\\build.log`\n",
      "\u001b[32m\u001b[1m  Building\u001b[22m\u001b[39m CodecZlib → `C:\\Users\\Hubert\\.julia\\packages\\CodecZlib\\9jDi1\\deps\\build.log`\n"
     ]
    },
    {
     "name": "stderr",
     "output_type": "stream",
     "text": [
      "┌ Info: Precompiling JuliaDB [a93385a2-3734-596a-9a66-3cfbb77141e6]\n",
      "└ @ Base loading.jl:1192\n"
     ]
    }
   ],
   "source": [
    "using Pkg\n",
    "Pkg.add(\"JuliaDB\")"
   ]
  },
  {
   "cell_type": "code",
   "execution_count": 1,
   "metadata": {},
   "outputs": [
    {
     "data": {
      "text/html": [
       "<script>\n",
       "// Immediately-invoked-function-expression to avoid global variables.\n",
       "(function() {\n",
       "    var warning_div = document.getElementById(\"webio-warning-9257117289822863909\");\n",
       "    var hide = function () {\n",
       "        var script = document.getElementById(\"webio-setup-12193874690460162676\");\n",
       "        var parent = script && script.parentElement;\n",
       "        var grandparent = parent && parent.parentElement;\n",
       "        if (grandparent) {\n",
       "            grandparent.style.display = \"none\";\n",
       "        }\n",
       "        warning_div.style.display = \"none\";\n",
       "    };\n",
       "    if (typeof Jupyter !== \"undefined\") {\n",
       "        console.log(\"WebIO detected Jupyter notebook environment.\");\n",
       "        // Jupyter notebook.\n",
       "        var extensions = (\n",
       "            Jupyter\n",
       "            && Jupyter.notebook.config.data\n",
       "            && Jupyter.notebook.config.data.load_extensions\n",
       "        );\n",
       "        if (extensions && extensions[\"webio/main\"]) {\n",
       "            // Extension already loaded.\n",
       "            console.log(\"Jupyter WebIO nbextension detected; not loading ad-hoc.\");\n",
       "            hide();\n",
       "            return;\n",
       "        }\n",
       "        console.warn(\"Loading WebIO Jupyter extension on an ad-hoc basis. Consider enabling the WebIO nbextension for a stabler experience (this should happen automatically when building WebIO).\");\n",
       "        require([\"/assetserver/5b314585181319166b17d7d4997f38b8ba291e22-dist/main.js\"], function (webIOModule) {\n",
       "            webIOModule.load_ipython_extension();\n",
       "        });\n",
       "        warning_div.innerHTML = \"<strong>Loading WebIO Jupyter extension on an ad-hoc basis. Consider enabling the WebIO nbextension for a stabler experience (this should happen automatically when building WebIO).</strong>\";\n",
       "    } else if (window.location.pathname.includes(\"/lab\")) {\n",
       "        // Guessing JupyterLa\n",
       "        console.log(\"Jupyter Lab detected; make sure the @webio/jupyter-lab-provider labextension is installed.\");\n",
       "        hide();\n",
       "        return;\n",
       "    }\n",
       "})();\n",
       "\n",
       "</script>\n",
       "<div\n",
       "    id=\"webio-warning-9257117289822863909\"\n",
       "    class=\"output_text output_stderr\"\n",
       "    style=\"padding: 1em; font-weight: bold;\"\n",
       ">\n",
       "    Unable to load WebIO. Please make sure WebIO works for your Jupyter client.\n",
       "    <!-- TODO: link to installation docs. -->\n",
       "</div>\n"
      ],
      "text/plain": [
       "HTML{String}(\"<script>\\n// Immediately-invoked-function-expression to avoid global variables.\\n(function() {\\n    var warning_div = document.getElementById(\\\"webio-warning-9257117289822863909\\\");\\n    var hide = function () {\\n        var script = document.getElementById(\\\"webio-setup-12193874690460162676\\\");\\n        var parent = script && script.parentElement;\\n        var grandparent = parent && parent.parentElement;\\n        if (grandparent) {\\n            grandparent.style.display = \\\"none\\\";\\n        }\\n        warning_div.style.display = \\\"none\\\";\\n    };\\n    if (typeof Jupyter !== \\\"undefined\\\") {\\n        console.log(\\\"WebIO detected Jupyter notebook environment.\\\");\\n        // Jupyter notebook.\\n        var extensions = (\\n            Jupyter\\n            && Jupyter.notebook.config.data\\n            && Jupyter.notebook.config.data.load_extensions\\n        );\\n        if (extensions && extensions[\\\"webio/main\\\"]) {\\n            // Extension already loaded.\\n            console.log(\\\"Jupyter WebIO nbextension detected; not loading ad-hoc.\\\");\\n            hide();\\n            return;\\n        }\\n        console.warn(\\\"Loading WebIO Jupyter extension on an ad-hoc basis. Consider enabling the WebIO nbextension for a stabler experience (this should happen automatically when building WebIO).\\\");\\n        require([\\\"/assetserver/5b314585181319166b17d7d4997f38b8ba291e22-dist/main.js\\\"], function (webIOModule) {\\n            webIOModule.load_ipython_extension();\\n        });\\n        warning_div.innerHTML = \\\"<strong>Loading WebIO Jupyter extension on an ad-hoc basis. Consider enabling the WebIO nbextension for a stabler experience (this should happen automatically when building WebIO).</strong>\\\";\\n    } else if (window.location.pathname.includes(\\\"/lab\\\")) {\\n        // Guessing JupyterLa\\n        console.log(\\\"Jupyter Lab detected; make sure the @webio/jupyter-lab-provider labextension is installed.\\\");\\n        hide();\\n        return;\\n    }\\n})();\\n\\n</script>\\n<div\\n    id=\\\"webio-warning-9257117289822863909\\\"\\n    class=\\\"output_text output_stderr\\\"\\n    style=\\\"padding: 1em; font-weight: bold;\\\"\\n>\\n    Unable to load WebIO. Please make sure WebIO works for your Jupyter client.\\n    <!-- TODO: link to installation docs. -->\\n</div>\\n\")"
      ]
     },
     "metadata": {},
     "output_type": "display_data"
    }
   ],
   "source": [
    "using Blink\n",
    "using JuliaDB\n",
    "using GLPKMathProgInterface\n",
    "using JuMP\n",
    "using GLPK"
   ]
  },
  {
   "cell_type": "markdown",
   "metadata": {},
   "source": [
    "# --predeclarations--"
   ]
  },
  {
   "cell_type": "code",
   "execution_count": 2,
   "metadata": {},
   "outputs": [
    {
     "data": {
      "text/plain": [
       "4721"
      ]
     },
     "execution_count": 2,
     "metadata": {},
     "output_type": "execute_result"
    }
   ],
   "source": [
    "max_total_fat = 68\n",
    "max_sodium = 1500\n",
    "max_cholesterol = 129\n",
    "max_saturated_fat = 16\n",
    "min_calcium = 1334\n",
    "min_magnesium = 543\n",
    "min_fiber = 34\n",
    "min_potassium = 4721"
   ]
  },
  {
   "cell_type": "markdown",
   "metadata": {},
   "source": [
    "# --user information--"
   ]
  },
  {
   "cell_type": "code",
   "execution_count": 3,
   "metadata": {},
   "outputs": [
    {
     "data": {
      "text/plain": [
       "Table with 3 rows, 4 columns:\n",
       "age  sit   mid_active  active\n",
       "─────────────────────────────\n",
       "1    2400  2700        3000\n",
       "2    2200  2500        2900\n",
       "3    2000  2300        2600"
      ]
     },
     "execution_count": 3,
     "metadata": {},
     "output_type": "execute_result"
    }
   ],
   "source": [
    "age = [1, 2, 3]\n",
    "sit_f = [2000, 1800, 1600]\n",
    "mid_active_f = [2200, 2000, 1800]\n",
    "active_f = [2400, 2200, 2000]\n",
    "sit_m = [2400, 2200, 2000]\n",
    "mid_active_m = [2700, 2500, 2300]\n",
    "active_m = [3000, 2900, 2600]\n",
    "female_table = table(age, sit_f, mid_active_f, active_f; names=[:age, :sit, :mid_active, :active])\n",
    "male_table = table(age, sit_m, mid_active_m, active_m; names=[:age, :sit, :mid_active, :active])"
   ]
  },
  {
   "cell_type": "code",
   "execution_count": 4,
   "metadata": {},
   "outputs": [
    {
     "data": {
      "text/plain": [
       "Window(1, Electron(Process(`\u001b[4m'C:\\Users\\Hubert\\.julia\\packages\\Blink\\1QOOi\\deps\\atom\\electron.exe'\u001b[24m \u001b[4m'C:\\Users\\Hubert\\.julia\\packages\\Blink\\1QOOi\\src\\AtomShell\\main.js'\u001b[24m \u001b[4mport\u001b[24m \u001b[4m2129\u001b[24m`, ProcessRunning), Sockets.TCPSocket(Base.Libc.WindowsRawSocket(0x0000000000000498) active, 0 bytes waiting), Dict{String,Any}(\"callback\"=>##1#2())), Page(1, WebSocket(server, \u001b[32mCONNECTED\u001b[39m), Dict{String,Any}(\"get_user\"=>##5#6(),\"callback\"=>##1#2()), Distributed.Future(1, 1, 1, Some(true))))"
      ]
     },
     "execution_count": 4,
     "metadata": {},
     "output_type": "execute_result"
    }
   ],
   "source": [
    "user_info = []\n",
    "w1 = Window()\n",
    "f1 = open(\"w1.html\") do file\n",
    "    read(file,String)\n",
    "    end\n",
    "handle(w1, \"get_user\") do arg\n",
    "    append!(user_info, arg)\n",
    "end\n",
    "body!(w1, f1)"
   ]
  },
  {
   "cell_type": "code",
   "execution_count": 5,
   "metadata": {},
   "outputs": [
    {
     "data": {
      "text/plain": [
       "2000"
      ]
     },
     "execution_count": 5,
     "metadata": {},
     "output_type": "execute_result"
    }
   ],
   "source": [
    "if (user_info[1]=='1')\n",
    "    exact_calories = select(female_table, parse(Int, user_info[3]))[parse(Int, user_info[2])]\n",
    "    else\n",
    "    exact_calories = select(male_table, parse(Int, user_info[3]))[parse(Int, user_info[2])]\n",
    "end"
   ]
  },
  {
   "cell_type": "markdown",
   "metadata": {},
   "source": [
    "# --food database--"
   ]
  },
  {
   "cell_type": "code",
   "execution_count": 6,
   "metadata": {
    "scrolled": true
   },
   "outputs": [
    {
     "data": {
      "text/plain": [
       "Table with 30 rows, 13 columns:\n",
       "Columns:\n",
       "\u001b[1m#   \u001b[22m\u001b[1mcolname        \u001b[22m\u001b[1mtype\u001b[22m\n",
       "──────────────────────────\n",
       "1   id             Int64\n",
       "2   food           String\n",
       "3   total_fat      Float64\n",
       "4   sodium         Float64\n",
       "5   cholesterol    Float64\n",
       "6   saturated_fat  Float64\n",
       "7   calcium        Float64\n",
       "8   magnesium      Float64\n",
       "9   fiber          Float64\n",
       "10  potassium      Float64\n",
       "11  calories       Float64\n",
       "12  weight         Int64\n",
       "13  cost           Float64"
      ]
     },
     "execution_count": 6,
     "metadata": {},
     "output_type": "execute_result"
    }
   ],
   "source": [
    "id = [1,2,3,4,5,6,7,8,9,10,11,12,13,14,15,16,17,18,19,20,21,22,23,24,25,26,27,28,29,30]\n",
    "food = [\"carrot\", \"ground nut\", \"bread\", \"sweet potato\", \"milk\", \"orange\", \"watermelon\", \"fish (roasted)\", \"mushroom\", \"peas\", \"brussels\", \"tomatoe\", \"banana\", \"apple\", \"grapefruit\", \"pasta\", \"rice\", \"spinach\", \"chicken (fried)\", \"chicken (roasted)\", \"bacon\", \"duck (roasted)\", \"egg\", \"fish (fried)\", \"tofu\", \"beef\", \"yogurt\", \"cottage cheese\", \"cheese cheddar\", \"barley\"]\n",
    "total_fat = [0.24, 11.48, 0.58, 0.3, 0.1, 0.48, 0.16, 4.1, 0.6, 0.4, 0.1, 0.2, 0.4, 0.2, 0.3, 6.9, 0.4, 0.5, 15.3, 3.6, 31., 28.4, 0, 13.8, 12.2, 28.4, 3.8, 9, 33.1, 0.7]\n",
    "sodium = [33.6, 1.5, 124.8, 15, 8.1, 3.2, 2.4, 73, 26.6, 6.4, 4.4, 6.2, 1.2, 0, 0, 77.1, 1.6, 126, 99, 74, 188, 59, 358, 122, 2.4, 682, 171, 764, 621, 4.7]\n",
    "cholesterol = [0, 0, 0, 0, 3, 0, 0, 0.29, 0, 0, 0, 0, 0, 0, 0, 5.1, 0, 0, 93, 85, 8.8, 84, 0, 59, 0, 56, 14.7, 35.7, 105, 0]\n",
    "saturated_fat = [0, 1.55, 0.2, 0, 0.60, 0, 0, 34, 0, 0.1, 0, 0, 0.1, 0, 0, 1.8, 0.1, 0.1, 4.1, 1, 1, 9.7, 0, 3.2, 1.8, 11.7, 2.5, 3.6, 21.1, 0.1]\n",
    "calcium = [28, 4.25, 12.25, 24, 25, 49.6, 5.6, 40, 4.4, 67.2, 7.6, 12.3, 5.9, 0.1, 50.6, 56.5, 15.8, 245, 26, 15, 0.9, 11, 17.4, 50, 421, 12, 448, 174, 721, 17.3]\n",
    "magnesium = [9.6, 47.75, 13.25, 14, 2.4, 17.6, 8, 43, 26.6, 41.6, 4.2, 13.5, 31.9, 6.4, 20.7, 54, 19, 157, 25, 29, 45.8, 16, 24.6, 43, 64.7, 10, 41.7, 16.8, 28, 34.5]\n",
    "fiber = [2.48, 2.33, 1.55, 3, 0, 2.72, 0.29, 0, 3.4, 4.5, 0.5, 1.5, 3.1, 2.1, 3.7, 6.7, 0.6, 4.3, 0, 0, 0, 0, 0, 0, 0.7, 0, 0, 0, 0, 6]\n",
    "potassium = [212.8, 181.75, 56.5, 264, 31, 265.6, 87.2, 549, 622, 384, 66.6, 292, 422, 145, 311, 812, 55.3, 839, 251, 256, 45.8, 204, 315, 155, 178, 155, 573, 218, 98, 146]\n",
    "calories = [28, 144.5, 58.5, 90, 7, 72, 23.2, 151, 63.6, 67.2, 7.6, 22.1, 105, 77.3, 96.6, 224, 205, 41.4, 288, 165, 41.3, 337, 107, 228, 122, 313, 154, 206, 403, 193]\n",
    "weight = [80, 25, 25, 100, 20, 160, 80, 100, 148, 160, 21, 123, 118, 161, 230, 257, 158, 180, 100, 100, 8, 100, 28, 100, 122, 100, 245, 210, 100, 157]\n",
    "cost = [0.3, 1.99, 0.16, 0.39, 0.12, 0.7, 0.6, 7.99, 1.18, 1.03, 0.14, 1.35, 0.53, 0.37, 0.8, 2.03, 0.93, 1.6, 1.89, 1.89, 0.17, 1.595, 0.4, 7.99, 2.44, 1.19, 2.93, 4.11, 0.49, 0.58]\n",
    "food_table = table(id, food, total_fat, sodium, cholesterol, saturated_fat, calcium, magnesium, fiber, potassium, calories, weight, cost; names = [:id, :food, :total_fat, :sodium, :cholesterol, :saturated_fat, :calcium, :magnesium, :fiber, :potassium, :calories, :weight, :cost])"
   ]
  },
  {
   "cell_type": "markdown",
   "metadata": {},
   "source": [
    "# --food choosing--"
   ]
  },
  {
   "cell_type": "code",
   "execution_count": 7,
   "metadata": {},
   "outputs": [
    {
     "data": {
      "text/plain": [
       "Window(2, Electron(Process(`\u001b[4m'C:\\Users\\Hubert\\.julia\\packages\\Blink\\1QOOi\\deps\\atom\\electron.exe'\u001b[24m \u001b[4m'C:\\Users\\Hubert\\.julia\\packages\\Blink\\1QOOi\\src\\AtomShell\\main.js'\u001b[24m \u001b[4mport\u001b[24m \u001b[4m2129\u001b[24m`, ProcessRunning), Sockets.TCPSocket(Base.Libc.WindowsRawSocket(0x0000000000000498) active, 0 bytes waiting), Dict{String,Any}(\"callback\"=>##1#2())), Page(2, WebSocket(server, \u001b[32mCONNECTED\u001b[39m), Dict{String,Any}(\"callback\"=>##1#2(),\"get_food\"=>##9#10(),\"get_pieces\"=>##11#12()), Distributed.Future(1, 1, 2, Some(true))))"
      ]
     },
     "execution_count": 7,
     "metadata": {},
     "output_type": "execute_result"
    }
   ],
   "source": [
    "Blink.AtomShell.@dot w1 close()\n",
    "checked_food = []\n",
    "pieces_food = []\n",
    "w2 = Window()\n",
    "f2 = open(\"w2.html\") do file\n",
    "    read(file,String)\n",
    "    end\n",
    "handle(w2, \"get_food\") do arg\n",
    "    append!(checked_food, arg)\n",
    "end\n",
    "handle(w2, \"get_pieces\") do arg\n",
    "    append!(pieces_food, arg)\n",
    "end\n",
    "body!(w2, f2)"
   ]
  },
  {
   "cell_type": "code",
   "execution_count": 8,
   "metadata": {},
   "outputs": [
    {
     "data": {
      "text/plain": [
       "17-element Array{Any,1}:\n",
       "  1\n",
       "  2\n",
       "  3\n",
       "  4\n",
       "  5\n",
       "  6\n",
       "  7\n",
       "  9\n",
       " 10\n",
       " 11\n",
       " 12\n",
       " 16\n",
       " 19\n",
       " 21\n",
       " 23\n",
       " 27\n",
       " 30"
      ]
     },
     "execution_count": 8,
     "metadata": {},
     "output_type": "execute_result"
    }
   ],
   "source": [
    "checked_food"
   ]
  },
  {
   "cell_type": "code",
   "execution_count": 9,
   "metadata": {},
   "outputs": [
    {
     "data": {
      "text/plain": [
       "17-element Array{Any,1}:\n",
       " 10\n",
       " 10\n",
       " 10\n",
       "  5\n",
       " 17\n",
       "  6\n",
       "  1\n",
       "  2\n",
       "  5\n",
       " 15\n",
       "  6\n",
       "  5\n",
       "  7\n",
       " 20\n",
       " 20\n",
       " 15\n",
       "  1"
      ]
     },
     "execution_count": 9,
     "metadata": {},
     "output_type": "execute_result"
    }
   ],
   "source": [
    "pieces_food"
   ]
  },
  {
   "cell_type": "markdown",
   "metadata": {},
   "source": [
    "# --DASH model--"
   ]
  },
  {
   "cell_type": "code",
   "execution_count": 10,
   "metadata": {},
   "outputs": [],
   "source": [
    "dash = Model(with_optimizer(GLPK.Optimizer))\n",
    "amount = size(checked_food)\n",
    "@variable(dash, x[1:amount[1]])\n",
    "sum_cost = 0\n",
    "for (i, j) = zip(checked_food, 1:amount[1])\n",
    "    sum_cost += select(food_table, 13)[i]*x[j]\n",
    "end\n",
    "sum_total_fat = 0\n",
    "for (i, j) = zip(checked_food, 1:amount[1])\n",
    "    sum_total_fat += select(food_table, 3)[i]*x[j]\n",
    "end\n",
    "sum_sodium = 0\n",
    "for (i, j) = zip(checked_food, 1:amount[1])\n",
    "    sum_sodium += select(food_table, 4)[i]*x[j]\n",
    "end\n",
    "sum_cholesterol = 0\n",
    "for (i, j) = zip(checked_food, 1:amount[1])\n",
    "    sum_cholesterol += select(food_table, 5)[i]*x[j]\n",
    "end\n",
    "sum_saturated_fat = 0\n",
    "for (i, j) = zip(checked_food, 1:amount[1])\n",
    "    sum_saturated_fat += select(food_table, 6)[i]*x[j]\n",
    "end\n",
    "sum_calcium = 0\n",
    "for (i, j) = zip(checked_food, 1:amount[1])\n",
    "    sum_calcium += select(food_table, 7)[i]*x[j]\n",
    "end\n",
    "sum_magnesium = 0\n",
    "for (i, j) = zip(checked_food, 1:amount[1])\n",
    "    sum_magnesium += select(food_table, 8)[i]*x[j]\n",
    "end\n",
    "sum_fiber = 0\n",
    "for (i, j) = zip(checked_food, 1:amount[1])\n",
    "    sum_fiber += select(food_table, 9)[i]*x[j]\n",
    "end\n",
    "sum_potassium = 0\n",
    "for (i, j) = zip(checked_food, 1:amount[1])\n",
    "    sum_potassium += select(food_table, 10)[i]*x[j]\n",
    "end\n",
    "sum_calories = 0\n",
    "for (i, j) = zip(checked_food, 1:amount[1])\n",
    "    sum_calories += select(food_table, 11)[i]*x[j]\n",
    "end"
   ]
  },
  {
   "cell_type": "code",
   "execution_count": 11,
   "metadata": {},
   "outputs": [],
   "source": [
    "@objective(dash, Min, sum_cost)\n",
    "@constraint(dash, sum_total_fat <= max_total_fat)\n",
    "@constraint(dash, sum_sodium <= max_sodium)\n",
    "@constraint(dash, sum_cholesterol <= max_cholesterol)\n",
    "@constraint(dash, sum_saturated_fat <= max_saturated_fat)\n",
    "@constraint(dash, sum_calcium >= min_calcium)\n",
    "@constraint(dash, sum_magnesium >= min_magnesium)\n",
    "@constraint(dash, sum_fiber >= min_fiber)\n",
    "@constraint(dash, sum_potassium >= min_potassium)\n",
    "@constraint(dash, sum_calories == exact_calories)\n",
    "for i in 1:amount[1]\n",
    "    @constraint(dash, 0 <= x[i] <= pieces_food[i])\n",
    "end"
   ]
  },
  {
   "cell_type": "code",
   "execution_count": 12,
   "metadata": {},
   "outputs": [
    {
     "data": {
      "text/plain": [
       "OPTIMAL::TerminationStatusCode = 1"
      ]
     },
     "execution_count": 12,
     "metadata": {},
     "output_type": "execute_result"
    }
   ],
   "source": [
    "optimize!(dash)\n",
    "termination_status(dash)"
   ]
  },
  {
   "cell_type": "code",
   "execution_count": 13,
   "metadata": {},
   "outputs": [
    {
     "name": "stdout",
     "output_type": "stream",
     "text": [
      "Min cost: 14.630829384777677\n",
      "x1: 0.0\n",
      "x2: 0.0\n",
      "x3: 8.729893248879064\n",
      "x4: 5.0\n",
      "x5: 17.0\n",
      "x6: 6.0\n",
      "x7: 0.0\n",
      "x8: 0.0\n",
      "x9: 3.3477939507712335\n",
      "x10: 0.0\n",
      "x11: 0.0\n",
      "x12: -1.5368579592815356e-16\n",
      "x13: -4.578856533862464e-16\n",
      "x14: 0.5233560494445999\n",
      "x15: 1.381712546733757e-15\n",
      "x16: 0.3163304325109474\n",
      "x17: 1.0000000000000007\n"
     ]
    }
   ],
   "source": [
    "out = []\n",
    "println(\"Min cost: \", JuMP.objective_value(dash))\n",
    "for i in 1:amount[1]\n",
    "    println(\"x$i: \", JuMP.value(x[i]))\n",
    "    push!(out, JuMP.value(x[i]))\n",
    "end"
   ]
  },
  {
   "cell_type": "code",
   "execution_count": 14,
   "metadata": {},
   "outputs": [
    {
     "data": {
      "text/plain": [
       "Window(3, Electron(Process(`\u001b[4m'C:\\Users\\Hubert\\.julia\\packages\\Blink\\1QOOi\\deps\\atom\\electron.exe'\u001b[24m \u001b[4m'C:\\Users\\Hubert\\.julia\\packages\\Blink\\1QOOi\\src\\AtomShell\\main.js'\u001b[24m \u001b[4mport\u001b[24m \u001b[4m2129\u001b[24m`, ProcessRunning), Sockets.TCPSocket(Base.Libc.WindowsRawSocket(0x0000000000000498) active, 0 bytes waiting), Dict{String,Any}(\"callback\"=>##1#2())), Page(3, #undef, Dict{String,Any}(\"callback\"=>##1#2()), Distributed.Future(1, 1, 3, nothing)))"
      ]
     },
     "execution_count": 14,
     "metadata": {},
     "output_type": "execute_result"
    }
   ],
   "source": [
    "Blink.AtomShell.@dot w2 close()\n",
    "w3 = Window()\n",
    "outn = []\n",
    "for i in checked_food\n",
    "    push!(outn, select(food_table, 2)[i])\n",
    "end\n",
    "@js w3 outf = $out;\n",
    "@js w3 outn = $outn;\n",
    "f3 = open(\"w3.html\") do file\n",
    "    read(file,String)\n",
    "    end\n",
    "body!(w3, f3)"
   ]
  }
 ],
 "metadata": {
  "@webio": {
   "lastCommId": null,
   "lastKernelId": null
  },
  "kernelspec": {
   "display_name": "Julia 1.0.3",
   "language": "julia",
   "name": "julia-1.0"
  },
  "language_info": {
   "file_extension": ".jl",
   "mimetype": "application/julia",
   "name": "julia",
   "version": "1.0.3"
  }
 },
 "nbformat": 4,
 "nbformat_minor": 2
}
