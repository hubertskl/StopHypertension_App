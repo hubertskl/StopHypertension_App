{
 "cells": [
  {
   "cell_type": "code",
   "execution_count": 13,
   "metadata": {},
   "outputs": [
    {
     "name": "stdout",
     "output_type": "stream",
     "text": [
      "\u001b[32m\u001b[1m Resolving\u001b[22m\u001b[39m package versions...\n",
      "\u001b[32m\u001b[1m  Updating\u001b[22m\u001b[39m `~/.julia/Project.toml`\n",
      "\u001b[90m [no changes]\u001b[39m\n",
      "\u001b[32m\u001b[1m  Updating\u001b[22m\u001b[39m `~/.julia/Manifest.toml`\n",
      "\u001b[90m [no changes]\u001b[39m\n"
     ]
    }
   ],
   "source": [
    "using Pkg\n",
    "Pkg.add(\"JuliaDB\")"
   ]
  },
  {
   "cell_type": "code",
   "execution_count": 3,
   "metadata": {},
   "outputs": [],
   "source": [
    "using JuliaDB"
   ]
  },
  {
   "cell_type": "code",
   "execution_count": 15,
   "metadata": {},
   "outputs": [
    {
     "data": {
      "text/plain": [
       "Table with 10 rows, 3 columns:\n",
       "x   y          z\n",
       "────────────────────\n",
       "1   -0.858974  false\n",
       "2   -0.876057  true\n",
       "3   0.560008   false\n",
       "4   -0.695889  false\n",
       "5   -2.01263   false\n",
       "6   0.672856   true\n",
       "7   -0.408816  false\n",
       "8   0.503074   false\n",
       "9   -1.27202   false\n",
       "10  -1.20704   true"
      ]
     },
     "execution_count": 15,
     "metadata": {},
     "output_type": "execute_result"
    }
   ],
   "source": [
    "t = table(1:10, randn(10), rand(Bool, 10); names = [:x, :y, :z])"
   ]
  },
  {
   "cell_type": "code",
   "execution_count": 16,
   "metadata": {},
   "outputs": [
    {
     "data": {
      "text/plain": [
       "-0.8760569362103086"
      ]
     },
     "execution_count": 16,
     "metadata": {},
     "output_type": "execute_result"
    }
   ],
   "source": [
    "select(t,2)[2]"
   ]
  },
  {
   "cell_type": "markdown",
   "metadata": {},
   "source": [
    "# --------------------------------------------------\n"
   ]
  },
  {
   "cell_type": "code",
   "execution_count": 4,
   "metadata": {},
   "outputs": [
    {
     "data": {
      "text/plain": [
       "30-element Array{Int64,1}:\n",
       "  1\n",
       "  2\n",
       "  3\n",
       "  4\n",
       "  5\n",
       "  6\n",
       "  7\n",
       "  8\n",
       "  9\n",
       " 10\n",
       " 11\n",
       " 12\n",
       " 13\n",
       "  ⋮\n",
       " 19\n",
       " 20\n",
       " 21\n",
       " 22\n",
       " 23\n",
       " 24\n",
       " 25\n",
       " 26\n",
       " 27\n",
       " 28\n",
       " 29\n",
       " 30"
      ]
     },
     "execution_count": 4,
     "metadata": {},
     "output_type": "execute_result"
    }
   ],
   "source": [
    "id = [1,2,3,4,5,6,7,8,9,10,11,12,13,14,15,16,17,18,19,20,21,22,23,24,25,26,27,28,29,30]"
   ]
  },
  {
   "cell_type": "code",
   "execution_count": 5,
   "metadata": {},
   "outputs": [
    {
     "data": {
      "text/plain": [
       "30-element Array{String,1}:\n",
       " \"carrot\"           \n",
       " \"ground nut\"       \n",
       " \"bread\"            \n",
       " \"sweet potato\"     \n",
       " \"milk\"             \n",
       " \"orange\"           \n",
       " \"watermelon\"       \n",
       " \"fish (roasted)\"   \n",
       " \"mushroom\"         \n",
       " \"peas\"             \n",
       " \"brussels\"         \n",
       " \"tomatoe\"          \n",
       " \"banana\"           \n",
       " ⋮                  \n",
       " \"chicken (fried)\"  \n",
       " \"chicken (roasted)\"\n",
       " \"bacon\"            \n",
       " \"duck (roasted)\"   \n",
       " \"egg\"              \n",
       " \"fish (fried)\"     \n",
       " \"tofu\"             \n",
       " \"beef\"             \n",
       " \"yogurt\"           \n",
       " \"cottage cheese\"   \n",
       " \"cheese cheddar\"   \n",
       " \"barley\"           "
      ]
     },
     "execution_count": 5,
     "metadata": {},
     "output_type": "execute_result"
    }
   ],
   "source": [
    "food = [\"carrot\", \"ground nut\", \"bread\", \"sweet potato\", \"milk\", \"orange\", \"watermelon\", \"fish (roasted)\", \"mushroom\", \"peas\", \"brussels\", \"tomatoe\", \"banana\", \"apple\", \"grapefruit\", \"pasta\", \"rice\", \"spinach\", \"chicken (fried)\", \"chicken (roasted)\", \"bacon\", \"duck (roasted)\", \"egg\", \"fish (fried)\", \"tofu\", \"beef\", \"yogurt\", \"cottage cheese\", \"cheese cheddar\", \"barley\"]"
   ]
  },
  {
   "cell_type": "code",
   "execution_count": 6,
   "metadata": {},
   "outputs": [
    {
     "data": {
      "text/plain": [
       "30-element Array{Float64,1}:\n",
       "  0.24\n",
       " 11.48\n",
       "  0.58\n",
       "  0.3 \n",
       "  0.1 \n",
       "  0.48\n",
       "  0.16\n",
       "  4.1 \n",
       "  0.6 \n",
       "  0.4 \n",
       "  0.1 \n",
       "  0.2 \n",
       "  0.4 \n",
       "  ⋮   \n",
       " 15.3 \n",
       "  3.6 \n",
       " 31.0 \n",
       " 28.4 \n",
       "  0.0 \n",
       " 13.8 \n",
       " 12.2 \n",
       " 28.4 \n",
       "  3.8 \n",
       "  9.0 \n",
       " 33.1 \n",
       "  0.7 "
      ]
     },
     "execution_count": 6,
     "metadata": {},
     "output_type": "execute_result"
    }
   ],
   "source": [
    "total_fat = [0.24, 11.48, 0.58, 0.3, 0.1, 0.48, 0.16, 4.1, 0.6, 0.4, 0.1, 0.2, 0.4, 0.2, 0.3, 6.9, 0.4, 0.5, 15.3, 3.6, 31., 28.4, 0, 13.8, 12.2, 28.4, 3.8, 9, 33.1, 0.7]"
   ]
  },
  {
   "cell_type": "code",
   "execution_count": 7,
   "metadata": {},
   "outputs": [
    {
     "data": {
      "text/plain": [
       "30-element Array{Float64,1}:\n",
       "  33.6\n",
       "   1.5\n",
       " 124.8\n",
       "  15.0\n",
       "   8.1\n",
       "   3.2\n",
       "   2.4\n",
       "  73.0\n",
       "  26.6\n",
       "   6.4\n",
       "   4.4\n",
       "   6.2\n",
       "   1.2\n",
       "   ⋮  \n",
       "  99.0\n",
       "  74.0\n",
       " 188.0\n",
       "  59.0\n",
       " 358.0\n",
       " 122.0\n",
       "   2.4\n",
       " 682.0\n",
       " 171.0\n",
       " 764.0\n",
       " 621.0\n",
       "   4.7"
      ]
     },
     "execution_count": 7,
     "metadata": {},
     "output_type": "execute_result"
    }
   ],
   "source": [
    "sodium = [33.6, 1.5, 124.8, 15, 8.1, 3.2, 2.4, 73, 26.6, 6.4, 4.4, 6.2, 1.2, 0, 0, 77.1, 1.6, 126, 99, 74, 188, 59, 358, 122, 2.4, 682, 171, 764, 621, 4.7]"
   ]
  },
  {
   "cell_type": "code",
   "execution_count": 8,
   "metadata": {},
   "outputs": [
    {
     "data": {
      "text/plain": [
       "30-element Array{Float64,1}:\n",
       "   0.0 \n",
       "   0.0 \n",
       "   0.0 \n",
       "   0.0 \n",
       "   3.0 \n",
       "   0.0 \n",
       "   0.0 \n",
       "   0.29\n",
       "   0.0 \n",
       "   0.0 \n",
       "   0.0 \n",
       "   0.0 \n",
       "   0.0 \n",
       "   ⋮   \n",
       "  93.0 \n",
       "  85.0 \n",
       "   8.8 \n",
       "  84.0 \n",
       "   0.0 \n",
       "  59.0 \n",
       "   0.0 \n",
       "  56.0 \n",
       "  14.7 \n",
       "  35.7 \n",
       " 105.0 \n",
       "   0.0 "
      ]
     },
     "execution_count": 8,
     "metadata": {},
     "output_type": "execute_result"
    }
   ],
   "source": [
    "cholesterol = [0, 0, 0, 0, 3, 0, 0, 0.29, 0, 0, 0, 0, 0, 0, 0, 5.1, 0, 0, 93, 85, 8.8, 84, 0, 59, 0, 56, 14.7, 35.7, 105, 0]"
   ]
  },
  {
   "cell_type": "code",
   "execution_count": 9,
   "metadata": {},
   "outputs": [
    {
     "data": {
      "text/plain": [
       "30-element Array{Float64,1}:\n",
       "  0.0 \n",
       "  1.55\n",
       "  0.2 \n",
       "  0.0 \n",
       "  0.6 \n",
       "  0.0 \n",
       "  0.0 \n",
       " 34.0 \n",
       "  0.0 \n",
       "  0.1 \n",
       "  0.0 \n",
       "  0.0 \n",
       "  0.1 \n",
       "  ⋮   \n",
       "  4.1 \n",
       "  1.0 \n",
       "  1.0 \n",
       "  9.7 \n",
       "  0.0 \n",
       "  3.2 \n",
       "  1.8 \n",
       " 11.7 \n",
       "  2.5 \n",
       "  3.6 \n",
       " 21.1 \n",
       "  0.1 "
      ]
     },
     "execution_count": 9,
     "metadata": {},
     "output_type": "execute_result"
    }
   ],
   "source": [
    "saturated_fat = [0, 1.55, 0.2, 0, 0.60, 0, 0, 34, 0, 0.1, 0, 0, 0.1, 0, 0, 1.8, 0.1, 0.1, 4.1, 1, 1, 9.7, 0, 3.2, 1.8, 11.7, 2.5, 3.6, 21.1, 0.1]"
   ]
  },
  {
   "cell_type": "code",
   "execution_count": 10,
   "metadata": {},
   "outputs": [
    {
     "data": {
      "text/plain": [
       "30-element Array{Float64,1}:\n",
       "  28.0 \n",
       "   4.25\n",
       "  12.25\n",
       "  24.0 \n",
       "  25.0 \n",
       "  49.6 \n",
       "   5.6 \n",
       "  40.0 \n",
       "   4.4 \n",
       "  67.2 \n",
       "   7.6 \n",
       "  12.3 \n",
       "   5.9 \n",
       "   ⋮   \n",
       "  26.0 \n",
       "  15.0 \n",
       "   0.9 \n",
       "  11.0 \n",
       "  17.4 \n",
       "  50.0 \n",
       " 421.0 \n",
       "  12.0 \n",
       " 448.0 \n",
       " 174.0 \n",
       " 721.0 \n",
       "  17.3 "
      ]
     },
     "execution_count": 10,
     "metadata": {},
     "output_type": "execute_result"
    }
   ],
   "source": [
    "calcium = [28, 4.25, 12.25, 24, 25, 49.6, 5.6, 40, 4.4, 67.2, 7.6, 12.3, 5.9, 0.1, 50.6, 56.5, 15.8, 245, 26, 15, 0.9, 11, 17.4, 50, 421, 12, 448, 174, 721, 17.3]"
   ]
  },
  {
   "cell_type": "code",
   "execution_count": 11,
   "metadata": {},
   "outputs": [
    {
     "data": {
      "text/plain": [
       "30-element Array{Float64,1}:\n",
       "  9.6 \n",
       " 47.75\n",
       " 13.25\n",
       " 14.0 \n",
       "  2.4 \n",
       " 17.6 \n",
       "  8.0 \n",
       " 43.0 \n",
       " 26.6 \n",
       " 41.6 \n",
       "  4.2 \n",
       " 13.5 \n",
       " 31.9 \n",
       "  ⋮   \n",
       " 25.0 \n",
       " 29.0 \n",
       " 45.8 \n",
       " 16.0 \n",
       " 24.6 \n",
       " 43.0 \n",
       " 64.7 \n",
       " 10.0 \n",
       " 41.7 \n",
       " 16.8 \n",
       " 28.0 \n",
       " 34.5 "
      ]
     },
     "execution_count": 11,
     "metadata": {},
     "output_type": "execute_result"
    }
   ],
   "source": [
    "magnesium = [9.6, 47.75, 13.25, 14, 2.4, 17.6, 8, 43, 26.6, 41.6, 4.2, 13.5, 31.9, 6.4, 20.7, 54, 19, 157, 25, 29, 45.8, 16, 24.6, 43, 64.7, 10, 41.7, 16.8, 28, 34.5]"
   ]
  },
  {
   "cell_type": "code",
   "execution_count": 12,
   "metadata": {},
   "outputs": [
    {
     "data": {
      "text/plain": [
       "30-element Array{Float64,1}:\n",
       " 2.48\n",
       " 2.33\n",
       " 1.55\n",
       " 3.0 \n",
       " 0.0 \n",
       " 2.72\n",
       " 0.29\n",
       " 0.0 \n",
       " 3.4 \n",
       " 4.5 \n",
       " 0.5 \n",
       " 1.5 \n",
       " 3.1 \n",
       " ⋮   \n",
       " 0.0 \n",
       " 0.0 \n",
       " 0.0 \n",
       " 0.0 \n",
       " 0.0 \n",
       " 0.0 \n",
       " 0.7 \n",
       " 0.0 \n",
       " 0.0 \n",
       " 0.0 \n",
       " 0.0 \n",
       " 6.0 "
      ]
     },
     "execution_count": 12,
     "metadata": {},
     "output_type": "execute_result"
    }
   ],
   "source": [
    "fiber = [2.48, 2.33, 1.55, 3, 0, 2.72, 0.29, 0, 3.4, 4.5, 0.5, 1.5, 3.1, 2.1, 3.7, 6.7, 0.6, 4.3, 0, 0, 0, 0, 0, 0, 0.7, 0, 0, 0, 0, 6]"
   ]
  },
  {
   "cell_type": "code",
   "execution_count": 13,
   "metadata": {},
   "outputs": [
    {
     "data": {
      "text/plain": [
       "30-element Array{Float64,1}:\n",
       " 212.8 \n",
       " 181.75\n",
       "  56.5 \n",
       " 264.0 \n",
       "  31.0 \n",
       " 265.6 \n",
       "  87.2 \n",
       " 549.0 \n",
       " 622.0 \n",
       " 384.0 \n",
       "  66.6 \n",
       " 292.0 \n",
       " 422.0 \n",
       "   ⋮   \n",
       " 251.0 \n",
       " 256.0 \n",
       "  45.8 \n",
       " 204.0 \n",
       " 315.0 \n",
       " 155.0 \n",
       " 178.0 \n",
       " 155.0 \n",
       " 573.0 \n",
       " 218.0 \n",
       "  98.0 \n",
       " 146.0 "
      ]
     },
     "execution_count": 13,
     "metadata": {},
     "output_type": "execute_result"
    }
   ],
   "source": [
    "potassium = [212.8, 181.75, 56.5, 264, 31, 265.6, 87.2, 549, 622, 384, 66.6, 292, 422, 145, 311, 812, 55.3, 839, 251, 256, 45.8, 204, 315, 155, 178, 155, 573, 218, 98, 146]"
   ]
  },
  {
   "cell_type": "code",
   "execution_count": 14,
   "metadata": {},
   "outputs": [
    {
     "data": {
      "text/plain": [
       "30-element Array{Float64,1}:\n",
       "  28.0\n",
       " 144.5\n",
       "  58.5\n",
       "  90.0\n",
       "   7.0\n",
       "  72.0\n",
       "  23.2\n",
       " 151.0\n",
       "  63.6\n",
       "  67.2\n",
       "   7.6\n",
       "  22.1\n",
       " 105.0\n",
       "   ⋮  \n",
       " 288.0\n",
       " 165.0\n",
       "  41.3\n",
       " 337.0\n",
       " 107.0\n",
       " 228.0\n",
       " 122.0\n",
       " 313.0\n",
       " 154.0\n",
       " 206.0\n",
       " 403.0\n",
       " 193.0"
      ]
     },
     "execution_count": 14,
     "metadata": {},
     "output_type": "execute_result"
    }
   ],
   "source": [
    "calories = [28, 144.5, 58.5, 90, 7, 72, 23.2, 151, 63.6, 67.2, 7.6, 22.1, 105, 77.3, 96.6, 224, 205, 41.4, 288, 165, 41.3, 337, 107, 228, 122, 313, 154, 206, 403, 193]"
   ]
  },
  {
   "cell_type": "code",
   "execution_count": 15,
   "metadata": {},
   "outputs": [
    {
     "data": {
      "text/plain": [
       "30-element Array{Int64,1}:\n",
       "  80\n",
       "  25\n",
       "  25\n",
       " 100\n",
       "  20\n",
       " 160\n",
       "  80\n",
       " 100\n",
       " 148\n",
       " 160\n",
       "  21\n",
       " 123\n",
       " 118\n",
       "   ⋮\n",
       " 100\n",
       " 100\n",
       "   8\n",
       " 100\n",
       "  28\n",
       " 100\n",
       " 122\n",
       " 100\n",
       " 245\n",
       " 210\n",
       " 100\n",
       " 157"
      ]
     },
     "execution_count": 15,
     "metadata": {},
     "output_type": "execute_result"
    }
   ],
   "source": [
    "weight = [80, 25, 25, 100, 20, 160, 80, 100, 148, 160, 21, 123, 118, 161, 230, 257, 158, 180, 100, 100, 8, 100, 28, 100, 122, 100, 245, 210, 100, 157]"
   ]
  },
  {
   "cell_type": "code",
   "execution_count": 16,
   "metadata": {},
   "outputs": [
    {
     "data": {
      "text/plain": [
       "30-element Array{Float64,1}:\n",
       " 0.3  \n",
       " 1.99 \n",
       " 0.16 \n",
       " 0.39 \n",
       " 0.12 \n",
       " 0.7  \n",
       " 0.6  \n",
       " 7.99 \n",
       " 1.18 \n",
       " 1.03 \n",
       " 0.14 \n",
       " 1.35 \n",
       " 0.53 \n",
       " ⋮    \n",
       " 1.89 \n",
       " 1.89 \n",
       " 0.17 \n",
       " 1.595\n",
       " 0.4  \n",
       " 7.99 \n",
       " 2.44 \n",
       " 1.19 \n",
       " 2.93 \n",
       " 4.11 \n",
       " 0.49 \n",
       " 0.58 "
      ]
     },
     "execution_count": 16,
     "metadata": {},
     "output_type": "execute_result"
    }
   ],
   "source": [
    "cost = [0.3, 1.99, 0.16, 0.39, 0.12, 0.7, 0.6, 7.99, 1.18, 1.03, 0.14, 1.35, 0.53, 0.37, 0.8, 2.03, 0.93, 1.6, 1.89, 1.89, 0.17, 1.595, 0.4, 7.99, 2.44, 1.19, 2.93, 4.11, 0.49, 0.58]"
   ]
  },
  {
   "cell_type": "code",
   "execution_count": 17,
   "metadata": {},
   "outputs": [
    {
     "data": {
      "text/plain": [
       "Table with 30 rows, 13 columns:\n",
       "Columns:\n",
       "\u001b[1m#   \u001b[22m\u001b[1mcolname        \u001b[22m\u001b[1mtype\u001b[22m\n",
       "──────────────────────────\n",
       "1   id             Int64\n",
       "2   food           String\n",
       "3   total_fat      Float64\n",
       "4   sodium         Float64\n",
       "5   cholesterol    Float64\n",
       "6   saturated_fat  Float64\n",
       "7   calcium        Float64\n",
       "8   magnesium      Float64\n",
       "9   fiber          Float64\n",
       "10  potassium      Float64\n",
       "11  calories       Float64\n",
       "12  weight         Int64\n",
       "13  cost           Float64"
      ]
     },
     "execution_count": 17,
     "metadata": {},
     "output_type": "execute_result"
    }
   ],
   "source": [
    "food_table = table(id, food, total_fat, sodium, cholesterol, saturated_fat, calcium, magnesium, fiber, potassium, calories, weight, cost; names = [:id, :food, :total_fat, :sodium, :cholesterol, :saturated_fat, :calcium, :magnesium, :fiber, :potassium, :calories, :weight, :cost])"
   ]
  },
  {
   "cell_type": "code",
   "execution_count": 18,
   "metadata": {},
   "outputs": [
    {
     "data": {
      "text/plain": [
       "\"bread\""
      ]
     },
     "execution_count": 18,
     "metadata": {},
     "output_type": "execute_result"
    }
   ],
   "source": [
    "select(food_table, 2)[3]"
   ]
  },
  {
   "cell_type": "code",
   "execution_count": 19,
   "metadata": {},
   "outputs": [
    {
     "data": {
      "text/plain": [
       "0.58"
      ]
     },
     "execution_count": 19,
     "metadata": {},
     "output_type": "execute_result"
    }
   ],
   "source": [
    "select(food_table, 3)[3]"
   ]
  },
  {
   "cell_type": "code",
   "execution_count": 20,
   "metadata": {},
   "outputs": [
    {
     "data": {
      "text/plain": [
       "124.8"
      ]
     },
     "execution_count": 20,
     "metadata": {},
     "output_type": "execute_result"
    }
   ],
   "source": [
    "select(food_table, 4)[3]"
   ]
  },
  {
   "cell_type": "code",
   "execution_count": 21,
   "metadata": {},
   "outputs": [
    {
     "data": {
      "text/plain": [
       "2.48"
      ]
     },
     "execution_count": 21,
     "metadata": {},
     "output_type": "execute_result"
    }
   ],
   "source": [
    "food_table[1].fiber"
   ]
  },
  {
   "cell_type": "code",
   "execution_count": null,
   "metadata": {},
   "outputs": [],
   "source": []
  }
 ],
 "metadata": {
  "kernelspec": {
   "display_name": "Julia 1.0.3",
   "language": "julia",
   "name": "julia-1.0"
  },
  "language_info": {
   "file_extension": ".jl",
   "mimetype": "application/julia",
   "name": "julia",
   "version": "1.0.3"
  }
 },
 "nbformat": 4,
 "nbformat_minor": 2
}
